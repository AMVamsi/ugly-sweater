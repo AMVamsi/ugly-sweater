{
  "cells": [
    {
      "cell_type": "markdown",
      "metadata": {
        "id": "b4rL-wFuuymD"
      },
      "source": [
        "### This is a Multi-class Classification Model using Cohere.ai "
      ]
    },
    {
      "cell_type": "code",
      "execution_count": null,
      "metadata": {
        "colab": {
          "base_uri": "https://localhost:8080/"
        },
        "id": "lZxy41r52OVd",
        "outputId": "9bc1ebf0-f069-4856-bbc9-11b46fc3130a"
      },
      "outputs": [
        {
          "name": "stdout",
          "output_type": "stream",
          "text": [
            "Mounted at /content/drive\n"
          ]
        }
      ],
      "source": [
        "from google.colab import drive\n",
        "drive.mount('/content/drive')"
      ]
    },
    {
      "cell_type": "code",
      "execution_count": null,
      "metadata": {
        "colab": {
          "base_uri": "https://localhost:8080/",
          "height": 1000
        },
        "id": "OyOnqJTuu9RS",
        "outputId": "ac23f88f-b604-445d-da18-a9e7a7f62362"
      },
      "outputs": [
        {
          "name": "stdout",
          "output_type": "stream",
          "text": [
            "Looking in indexes: https://pypi.org/simple, https://us-python.pkg.dev/colab-wheels/public/simple/\n",
            "Collecting cohere\n",
            "  Downloading cohere-2.9.1.tar.gz (8.8 kB)\n",
            "Requirement already satisfied: requests in /usr/local/lib/python3.8/dist-packages (from cohere) (2.23.0)\n",
            "Requirement already satisfied: idna<3,>=2.5 in /usr/local/lib/python3.8/dist-packages (from requests->cohere) (2.10)\n",
            "Requirement already satisfied: certifi>=2017.4.17 in /usr/local/lib/python3.8/dist-packages (from requests->cohere) (2022.9.24)\n",
            "Requirement already satisfied: urllib3!=1.25.0,!=1.25.1,<1.26,>=1.21.1 in /usr/local/lib/python3.8/dist-packages (from requests->cohere) (1.24.3)\n",
            "Requirement already satisfied: chardet<4,>=3.0.2 in /usr/local/lib/python3.8/dist-packages (from requests->cohere) (3.0.4)\n",
            "Building wheels for collected packages: cohere\n",
            "  Building wheel for cohere (setup.py) ... \u001b[?25l\u001b[?25hdone\n",
            "  Created wheel for cohere: filename=cohere-2.9.1-cp38-cp38-linux_x86_64.whl size=9627 sha256=5e946327a22d89082c438448193737daab73ba2f649f1d2376ff03a89d62379b\n",
            "  Stored in directory: /root/.cache/pip/wheels/c8/79/5b/36adcce533f4b0ed540beef7e6ea61d637a10cb2c8d4670153\n",
            "Successfully built cohere\n",
            "Installing collected packages: cohere\n",
            "Successfully installed cohere-2.9.1\n",
            "Looking in indexes: https://pypi.org/simple, https://us-python.pkg.dev/colab-wheels/public/simple/\n",
            "Collecting featuretools\n",
            "  Downloading featuretools-1.18.0-py3-none-any.whl (509 kB)\n",
            "\u001b[K     |████████████████████████████████| 509 kB 13.6 MB/s \n",
            "\u001b[?25hCollecting woodwork[dask]>=0.18.0\n",
            "  Downloading woodwork-0.21.0-py3-none-any.whl (229 kB)\n",
            "\u001b[K     |████████████████████████████████| 229 kB 78.8 MB/s \n",
            "\u001b[?25hRequirement already satisfied: holidays>=0.13 in /usr/local/lib/python3.8/dist-packages (from featuretools) (0.17)\n",
            "Requirement already satisfied: distributed!=2022.10.1,>=2022.2.0 in /usr/local/lib/python3.8/dist-packages (from featuretools) (2022.2.0)\n",
            "Requirement already satisfied: numpy>=1.21.0 in /usr/local/lib/python3.8/dist-packages (from featuretools) (1.21.6)\n",
            "Requirement already satisfied: scipy>=1.4.0 in /usr/local/lib/python3.8/dist-packages (from featuretools) (1.7.3)\n",
            "Requirement already satisfied: packaging>=20.0 in /usr/local/lib/python3.8/dist-packages (from featuretools) (21.3)\n",
            "Requirement already satisfied: dask[dataframe]!=2022.10.1,>=2022.2.0 in /usr/local/lib/python3.8/dist-packages (from featuretools) (2022.2.0)\n",
            "Requirement already satisfied: tqdm>=4.32.0 in /usr/local/lib/python3.8/dist-packages (from featuretools) (4.64.1)\n",
            "Collecting pandas>=1.4.0\n",
            "  Downloading pandas-1.5.2-cp38-cp38-manylinux_2_17_x86_64.manylinux2014_x86_64.whl (12.2 MB)\n",
            "\u001b[K     |████████████████████████████████| 12.2 MB 61.8 MB/s \n",
            "\u001b[?25hCollecting psutil>=5.6.6\n",
            "  Downloading psutil-5.9.4-cp36-abi3-manylinux_2_12_x86_64.manylinux2010_x86_64.manylinux_2_17_x86_64.manylinux2014_x86_64.whl (280 kB)\n",
            "\u001b[K     |████████████████████████████████| 280 kB 73.4 MB/s \n",
            "\u001b[?25hRequirement already satisfied: cloudpickle>=1.5.0 in /usr/local/lib/python3.8/dist-packages (from featuretools) (1.5.0)\n",
            "Requirement already satisfied: pyyaml>=5.3.1 in /usr/local/lib/python3.8/dist-packages (from dask[dataframe]!=2022.10.1,>=2022.2.0->featuretools) (6.0)\n",
            "Requirement already satisfied: partd>=0.3.10 in /usr/local/lib/python3.8/dist-packages (from dask[dataframe]!=2022.10.1,>=2022.2.0->featuretools) (1.3.0)\n",
            "Requirement already satisfied: fsspec>=0.6.0 in /usr/local/lib/python3.8/dist-packages (from dask[dataframe]!=2022.10.1,>=2022.2.0->featuretools) (2022.11.0)\n",
            "Requirement already satisfied: toolz>=0.8.2 in /usr/local/lib/python3.8/dist-packages (from dask[dataframe]!=2022.10.1,>=2022.2.0->featuretools) (0.12.0)\n",
            "Requirement already satisfied: tblib>=1.6.0 in /usr/local/lib/python3.8/dist-packages (from distributed!=2022.10.1,>=2022.2.0->featuretools) (1.7.0)\n",
            "Requirement already satisfied: setuptools in /usr/local/lib/python3.8/dist-packages (from distributed!=2022.10.1,>=2022.2.0->featuretools) (57.4.0)\n",
            "Requirement already satisfied: zict>=0.1.3 in /usr/local/lib/python3.8/dist-packages (from distributed!=2022.10.1,>=2022.2.0->featuretools) (2.2.0)\n",
            "Requirement already satisfied: tornado>=6.0.3 in /usr/local/lib/python3.8/dist-packages (from distributed!=2022.10.1,>=2022.2.0->featuretools) (6.0.4)\n",
            "Requirement already satisfied: msgpack>=0.6.0 in /usr/local/lib/python3.8/dist-packages (from distributed!=2022.10.1,>=2022.2.0->featuretools) (1.0.4)\n",
            "Requirement already satisfied: sortedcontainers!=2.0.0,!=2.0.1 in /usr/local/lib/python3.8/dist-packages (from distributed!=2022.10.1,>=2022.2.0->featuretools) (2.4.0)\n",
            "Requirement already satisfied: jinja2 in /usr/local/lib/python3.8/dist-packages (from distributed!=2022.10.1,>=2022.2.0->featuretools) (2.11.3)\n",
            "Requirement already satisfied: click>=6.6 in /usr/local/lib/python3.8/dist-packages (from distributed!=2022.10.1,>=2022.2.0->featuretools) (7.1.2)\n",
            "Requirement already satisfied: hijri-converter in /usr/local/lib/python3.8/dist-packages (from holidays>=0.13->featuretools) (2.2.4)\n",
            "Requirement already satisfied: korean-lunar-calendar in /usr/local/lib/python3.8/dist-packages (from holidays>=0.13->featuretools) (0.3.1)\n",
            "Requirement already satisfied: python-dateutil in /usr/local/lib/python3.8/dist-packages (from holidays>=0.13->featuretools) (2.8.2)\n",
            "Requirement already satisfied: convertdate>=2.3.0 in /usr/local/lib/python3.8/dist-packages (from holidays>=0.13->featuretools) (2.4.0)\n",
            "Requirement already satisfied: pymeeus<=1,>=0.3.13 in /usr/local/lib/python3.8/dist-packages (from convertdate>=2.3.0->holidays>=0.13->featuretools) (0.5.11)\n",
            "Requirement already satisfied: pyparsing!=3.0.5,>=2.0.2 in /usr/local/lib/python3.8/dist-packages (from packaging>=20.0->featuretools) (3.0.9)\n",
            "Requirement already satisfied: pytz>=2020.1 in /usr/local/lib/python3.8/dist-packages (from pandas>=1.4.0->featuretools) (2022.6)\n",
            "Requirement already satisfied: locket in /usr/local/lib/python3.8/dist-packages (from partd>=0.3.10->dask[dataframe]!=2022.10.1,>=2022.2.0->featuretools) (1.0.0)\n",
            "Requirement already satisfied: six>=1.5 in /usr/local/lib/python3.8/dist-packages (from python-dateutil->holidays>=0.13->featuretools) (1.15.0)\n",
            "Requirement already satisfied: scikit-learn>=0.22 in /usr/local/lib/python3.8/dist-packages (from woodwork[dask]>=0.18.0->featuretools) (1.0.2)\n",
            "Requirement already satisfied: joblib>=0.11 in /usr/local/lib/python3.8/dist-packages (from scikit-learn>=0.22->woodwork[dask]>=0.18.0->featuretools) (1.2.0)\n",
            "Requirement already satisfied: threadpoolctl>=2.0.0 in /usr/local/lib/python3.8/dist-packages (from scikit-learn>=0.22->woodwork[dask]>=0.18.0->featuretools) (3.1.0)\n",
            "Requirement already satisfied: heapdict in /usr/local/lib/python3.8/dist-packages (from zict>=0.1.3->distributed!=2022.10.1,>=2022.2.0->featuretools) (1.0.1)\n",
            "Requirement already satisfied: MarkupSafe>=0.23 in /usr/local/lib/python3.8/dist-packages (from jinja2->distributed!=2022.10.1,>=2022.2.0->featuretools) (2.0.1)\n",
            "Installing collected packages: pandas, woodwork, psutil, featuretools\n",
            "  Attempting uninstall: pandas\n",
            "    Found existing installation: pandas 1.3.5\n",
            "    Uninstalling pandas-1.3.5:\n",
            "      Successfully uninstalled pandas-1.3.5\n",
            "  Attempting uninstall: psutil\n",
            "    Found existing installation: psutil 5.4.8\n",
            "    Uninstalling psutil-5.4.8:\n",
            "      Successfully uninstalled psutil-5.4.8\n",
            "Successfully installed featuretools-1.18.0 pandas-1.5.2 psutil-5.9.4 woodwork-0.21.0\n"
          ]
        },
        {
          "data": {
            "application/vnd.colab-display-data+json": {
              "pip_warning": {
                "packages": [
                  "psutil"
                ]
              }
            }
          },
          "metadata": {},
          "output_type": "display_data"
        }
      ],
      "source": [
        "!pip install cohere\n",
        "!pip install -U featuretools"
      ]
    },
    {
      "cell_type": "code",
      "execution_count": null,
      "metadata": {
        "id": "hq_kQlemGXDH"
      },
      "outputs": [],
      "source": [
        "import featuretools"
      ]
    },
    {
      "cell_type": "code",
      "execution_count": null,
      "metadata": {
        "id": "8SIoCk0Rxg7f"
      },
      "outputs": [],
      "source": [
        "import os\n",
        "import cohere\n",
        "import pandas as pd\n",
        "from sklearn.model_selection import train_test_split\n",
        "from sklearn.preprocessing import StandardScaler, LabelEncoder\n",
        "pd.set_option('display.max_colwidth', None)\n"
      ]
    },
    {
      "cell_type": "code",
      "execution_count": null,
      "metadata": {
        "colab": {
          "base_uri": "https://localhost:8080/",
          "height": 354
        },
        "id": "hgpRwwl-xkDv",
        "outputId": "d1ceaacf-fc4b-465f-d73d-62eb1e9ce7c1"
      },
      "outputs": [
        {
          "data": {
            "text/html": [
              "\n",
              "  <div id=\"df-98837633-3f9f-4f66-a6e3-beebe01b94b8\">\n",
              "    <div class=\"colab-df-container\">\n",
              "      <div>\n",
              "<style scoped>\n",
              "    .dataframe tbody tr th:only-of-type {\n",
              "        vertical-align: middle;\n",
              "    }\n",
              "\n",
              "    .dataframe tbody tr th {\n",
              "        vertical-align: top;\n",
              "    }\n",
              "\n",
              "    .dataframe thead th {\n",
              "        text-align: right;\n",
              "    }\n",
              "</style>\n",
              "<table border=\"1\" class=\"dataframe\">\n",
              "  <thead>\n",
              "    <tr style=\"text-align: right;\">\n",
              "      <th></th>\n",
              "      <th>posts</th>\n",
              "      <th>type</th>\n",
              "      <th>multimedia</th>\n",
              "    </tr>\n",
              "  </thead>\n",
              "  <tbody>\n",
              "    <tr>\n",
              "      <th>0</th>\n",
              "      <td>♪ tails paper triggers past</td>\n",
              "      <td>INFJ</td>\n",
              "      <td>website</td>\n",
              "    </tr>\n",
              "    <tr>\n",
              "      <th>1</th>\n",
              "      <td>enfp intj moments sportscenter top ten plays pranks oh stop stop oh many people want early good morning goodnight guys already discussed since saying rooms im certainly glad didnt get outfit last night hey alex almost ready weve gotta go yeah almost ready alex alex fabulous alex always ready um almost im sorry like five minutes dont dont nope would got dress living room oh took earlier dont want weigh know put outfit night like put night wouldnt problem live seattle january hope sometimes okay im ready im ready need jacket warm one waterproofs right doesnt really match outfit oh well right coat ill put screen oh thank im going put hat</td>\n",
              "      <td>INFJ</td>\n",
              "      <td>website</td>\n",
              "    </tr>\n",
              "    <tr>\n",
              "      <th>2</th>\n",
              "      <td>lifechanging experience life</td>\n",
              "      <td>INFJ</td>\n",
              "      <td>reg_text</td>\n",
              "    </tr>\n",
              "    <tr>\n",
              "      <th>3</th>\n",
              "      <td>repeat today faster slow show theeres corner anarwon</td>\n",
              "      <td>INFJ</td>\n",
              "      <td>video</td>\n",
              "    </tr>\n",
              "    <tr>\n",
              "      <th>4</th>\n",
              "      <td>may perc experience immerse</td>\n",
              "      <td>INFJ</td>\n",
              "      <td>reg_text</td>\n",
              "    </tr>\n",
              "  </tbody>\n",
              "</table>\n",
              "</div>\n",
              "      <button class=\"colab-df-convert\" onclick=\"convertToInteractive('df-98837633-3f9f-4f66-a6e3-beebe01b94b8')\"\n",
              "              title=\"Convert this dataframe to an interactive table.\"\n",
              "              style=\"display:none;\">\n",
              "        \n",
              "  <svg xmlns=\"http://www.w3.org/2000/svg\" height=\"24px\"viewBox=\"0 0 24 24\"\n",
              "       width=\"24px\">\n",
              "    <path d=\"M0 0h24v24H0V0z\" fill=\"none\"/>\n",
              "    <path d=\"M18.56 5.44l.94 2.06.94-2.06 2.06-.94-2.06-.94-.94-2.06-.94 2.06-2.06.94zm-11 1L8.5 8.5l.94-2.06 2.06-.94-2.06-.94L8.5 2.5l-.94 2.06-2.06.94zm10 10l.94 2.06.94-2.06 2.06-.94-2.06-.94-.94-2.06-.94 2.06-2.06.94z\"/><path d=\"M17.41 7.96l-1.37-1.37c-.4-.4-.92-.59-1.43-.59-.52 0-1.04.2-1.43.59L10.3 9.45l-7.72 7.72c-.78.78-.78 2.05 0 2.83L4 21.41c.39.39.9.59 1.41.59.51 0 1.02-.2 1.41-.59l7.78-7.78 2.81-2.81c.8-.78.8-2.07 0-2.86zM5.41 20L4 18.59l7.72-7.72 1.47 1.35L5.41 20z\"/>\n",
              "  </svg>\n",
              "      </button>\n",
              "      \n",
              "  <style>\n",
              "    .colab-df-container {\n",
              "      display:flex;\n",
              "      flex-wrap:wrap;\n",
              "      gap: 12px;\n",
              "    }\n",
              "\n",
              "    .colab-df-convert {\n",
              "      background-color: #E8F0FE;\n",
              "      border: none;\n",
              "      border-radius: 50%;\n",
              "      cursor: pointer;\n",
              "      display: none;\n",
              "      fill: #1967D2;\n",
              "      height: 32px;\n",
              "      padding: 0 0 0 0;\n",
              "      width: 32px;\n",
              "    }\n",
              "\n",
              "    .colab-df-convert:hover {\n",
              "      background-color: #E2EBFA;\n",
              "      box-shadow: 0px 1px 2px rgba(60, 64, 67, 0.3), 0px 1px 3px 1px rgba(60, 64, 67, 0.15);\n",
              "      fill: #174EA6;\n",
              "    }\n",
              "\n",
              "    [theme=dark] .colab-df-convert {\n",
              "      background-color: #3B4455;\n",
              "      fill: #D2E3FC;\n",
              "    }\n",
              "\n",
              "    [theme=dark] .colab-df-convert:hover {\n",
              "      background-color: #434B5C;\n",
              "      box-shadow: 0px 1px 3px 1px rgba(0, 0, 0, 0.15);\n",
              "      filter: drop-shadow(0px 1px 2px rgba(0, 0, 0, 0.3));\n",
              "      fill: #FFFFFF;\n",
              "    }\n",
              "  </style>\n",
              "\n",
              "      <script>\n",
              "        const buttonEl =\n",
              "          document.querySelector('#df-98837633-3f9f-4f66-a6e3-beebe01b94b8 button.colab-df-convert');\n",
              "        buttonEl.style.display =\n",
              "          google.colab.kernel.accessAllowed ? 'block' : 'none';\n",
              "\n",
              "        async function convertToInteractive(key) {\n",
              "          const element = document.querySelector('#df-98837633-3f9f-4f66-a6e3-beebe01b94b8');\n",
              "          const dataTable =\n",
              "            await google.colab.kernel.invokeFunction('convertToInteractive',\n",
              "                                                     [key], {});\n",
              "          if (!dataTable) return;\n",
              "\n",
              "          const docLinkHtml = 'Like what you see? Visit the ' +\n",
              "            '<a target=\"_blank\" href=https://colab.research.google.com/notebooks/data_table.ipynb>data table notebook</a>'\n",
              "            + ' to learn more about interactive tables.';\n",
              "          element.innerHTML = '';\n",
              "          dataTable['output_type'] = 'display_data';\n",
              "          await google.colab.output.renderOutput(dataTable, element);\n",
              "          const docLink = document.createElement('div');\n",
              "          docLink.innerHTML = docLinkHtml;\n",
              "          element.appendChild(docLink);\n",
              "        }\n",
              "      </script>\n",
              "    </div>\n",
              "  </div>\n",
              "  "
            ],
            "text/plain": [
              "                                                                                                                                                                                                                                                                                                                                                                                                                                                                                                                                                                                                                                                                posts  \\\n",
              "0                                                                                                                                                                                                                                                                                                                                                                                                                                                                                                                                                                                                                                         ♪ tails paper triggers past   \n",
              "1  enfp intj moments sportscenter top ten plays pranks oh stop stop oh many people want early good morning goodnight guys already discussed since saying rooms im certainly glad didnt get outfit last night hey alex almost ready weve gotta go yeah almost ready alex alex fabulous alex always ready um almost im sorry like five minutes dont dont nope would got dress living room oh took earlier dont want weigh know put outfit night like put night wouldnt problem live seattle january hope sometimes okay im ready im ready need jacket warm one waterproofs right doesnt really match outfit oh well right coat ill put screen oh thank im going put hat   \n",
              "2                                                                                                                                                                                                                                                                                                                                                                                                                                                                                                                                                                                                                                        lifechanging experience life   \n",
              "3                                                                                                                                                                                                                                                                                                                                                                                                                                                                                                                                                                                                                repeat today faster slow show theeres corner anarwon   \n",
              "4                                                                                                                                                                                                                                                                                                                                                                                                                                                                                                                                                                                                                                         may perc experience immerse   \n",
              "\n",
              "   type multimedia  \n",
              "0  INFJ    website  \n",
              "1  INFJ    website  \n",
              "2  INFJ   reg_text  \n",
              "3  INFJ      video  \n",
              "4  INFJ   reg_text  "
            ]
          },
          "execution_count": 5,
          "metadata": {},
          "output_type": "execute_result"
        }
      ],
      "source": [
        "#read csv file \n",
        "wd = \"/content/drive/Shareddrives/UglySweater\"\n",
        "os.chdir(wd)\n",
        "df = pd.read_csv(f\"{wd}/preprocessed.csv\",header=0)\n",
        "df = df.drop(['Unnamed: 0'], axis = 1)\n",
        "df = df.dropna()\n",
        "df = df.reset_index()\n",
        "df = df.drop(['index'], axis=1)\n",
        "df.head(5)"
      ]
    },
    {
      "cell_type": "code",
      "execution_count": null,
      "metadata": {
        "id": "W56hsOYYMPGS"
      },
      "outputs": [],
      "source": [
        "df_filter=df[df['multimedia']=='reg_text']"
      ]
    },
    {
      "cell_type": "code",
      "execution_count": null,
      "metadata": {
        "colab": {
          "base_uri": "https://localhost:8080/",
          "height": 554
        },
        "id": "l4MeF0ykNwbI",
        "outputId": "81a90138-efac-4ace-b569-49bece8533bb"
      },
      "outputs": [
        {
          "data": {
            "text/html": [
              "\n",
              "  <div id=\"df-0aee7f6e-3295-4d09-bf7d-d497c7e50bfa\">\n",
              "    <div class=\"colab-df-container\">\n",
              "      <div>\n",
              "<style scoped>\n",
              "    .dataframe tbody tr th:only-of-type {\n",
              "        vertical-align: middle;\n",
              "    }\n",
              "\n",
              "    .dataframe tbody tr th {\n",
              "        vertical-align: top;\n",
              "    }\n",
              "\n",
              "    .dataframe thead th {\n",
              "        text-align: right;\n",
              "    }\n",
              "</style>\n",
              "<table border=\"1\" class=\"dataframe\">\n",
              "  <thead>\n",
              "    <tr style=\"text-align: right;\">\n",
              "      <th></th>\n",
              "      <th>posts</th>\n",
              "      <th>type</th>\n",
              "      <th>multimedia</th>\n",
              "    </tr>\n",
              "  </thead>\n",
              "  <tbody>\n",
              "    <tr>\n",
              "      <th>2</th>\n",
              "      <td>lifechanging experience life</td>\n",
              "      <td>INFJ</td>\n",
              "      <td>reg_text</td>\n",
              "    </tr>\n",
              "    <tr>\n",
              "      <th>4</th>\n",
              "      <td>may perc experience immerse</td>\n",
              "      <td>INFJ</td>\n",
              "      <td>reg_text</td>\n",
              "    </tr>\n",
              "    <tr>\n",
              "      <th>6</th>\n",
              "      <td>hello enfj sorry hear distress natural relationship perfection time every moment existence try figure hard times times growth</td>\n",
              "      <td>INFJ</td>\n",
              "      <td>reg_text</td>\n",
              "    </tr>\n",
              "    <tr>\n",
              "      <th>7</th>\n",
              "      <td>welcome stuff</td>\n",
              "      <td>INFJ</td>\n",
              "      <td>reg_text</td>\n",
              "    </tr>\n",
              "    <tr>\n",
              "      <th>9</th>\n",
              "      <td>prozac wellbrutin least thirty minutes moving legs dont mean moving sitting desk chair weed moderation maybe try edibles healthier alternative</td>\n",
              "      <td>INFJ</td>\n",
              "      <td>reg_text</td>\n",
              "    </tr>\n",
              "    <tr>\n",
              "      <th>...</th>\n",
              "      <td>...</td>\n",
              "      <td>...</td>\n",
              "      <td>...</td>\n",
              "    </tr>\n",
              "    <tr>\n",
              "      <th>404312</th>\n",
              "      <td>going close facebook months back well wanting able message family ausse school friends found connected websites</td>\n",
              "      <td>INFP</td>\n",
              "      <td>reg_text</td>\n",
              "    </tr>\n",
              "    <tr>\n",
              "      <th>404313</th>\n",
              "      <td>seconds mars collections seems fitting mood right</td>\n",
              "      <td>INFP</td>\n",
              "      <td>reg_text</td>\n",
              "    </tr>\n",
              "    <tr>\n",
              "      <th>404314</th>\n",
              "      <td>seen agree actually think first time watched movie beginning got powers kinda thought andrew would never work right</td>\n",
              "      <td>INFP</td>\n",
              "      <td>reg_text</td>\n",
              "    </tr>\n",
              "    <tr>\n",
              "      <th>404315</th>\n",
              "      <td>ok watched underworld awakening must say really good film compared films last months anyway dont think good first</td>\n",
              "      <td>INFP</td>\n",
              "      <td>reg_text</td>\n",
              "    </tr>\n",
              "    <tr>\n",
              "      <th>404316</th>\n",
              "      <td>would never want turn emotions sometimes hide world still need</td>\n",
              "      <td>INFP</td>\n",
              "      <td>reg_text</td>\n",
              "    </tr>\n",
              "  </tbody>\n",
              "</table>\n",
              "<p>394043 rows × 3 columns</p>\n",
              "</div>\n",
              "      <button class=\"colab-df-convert\" onclick=\"convertToInteractive('df-0aee7f6e-3295-4d09-bf7d-d497c7e50bfa')\"\n",
              "              title=\"Convert this dataframe to an interactive table.\"\n",
              "              style=\"display:none;\">\n",
              "        \n",
              "  <svg xmlns=\"http://www.w3.org/2000/svg\" height=\"24px\"viewBox=\"0 0 24 24\"\n",
              "       width=\"24px\">\n",
              "    <path d=\"M0 0h24v24H0V0z\" fill=\"none\"/>\n",
              "    <path d=\"M18.56 5.44l.94 2.06.94-2.06 2.06-.94-2.06-.94-.94-2.06-.94 2.06-2.06.94zm-11 1L8.5 8.5l.94-2.06 2.06-.94-2.06-.94L8.5 2.5l-.94 2.06-2.06.94zm10 10l.94 2.06.94-2.06 2.06-.94-2.06-.94-.94-2.06-.94 2.06-2.06.94z\"/><path d=\"M17.41 7.96l-1.37-1.37c-.4-.4-.92-.59-1.43-.59-.52 0-1.04.2-1.43.59L10.3 9.45l-7.72 7.72c-.78.78-.78 2.05 0 2.83L4 21.41c.39.39.9.59 1.41.59.51 0 1.02-.2 1.41-.59l7.78-7.78 2.81-2.81c.8-.78.8-2.07 0-2.86zM5.41 20L4 18.59l7.72-7.72 1.47 1.35L5.41 20z\"/>\n",
              "  </svg>\n",
              "      </button>\n",
              "      \n",
              "  <style>\n",
              "    .colab-df-container {\n",
              "      display:flex;\n",
              "      flex-wrap:wrap;\n",
              "      gap: 12px;\n",
              "    }\n",
              "\n",
              "    .colab-df-convert {\n",
              "      background-color: #E8F0FE;\n",
              "      border: none;\n",
              "      border-radius: 50%;\n",
              "      cursor: pointer;\n",
              "      display: none;\n",
              "      fill: #1967D2;\n",
              "      height: 32px;\n",
              "      padding: 0 0 0 0;\n",
              "      width: 32px;\n",
              "    }\n",
              "\n",
              "    .colab-df-convert:hover {\n",
              "      background-color: #E2EBFA;\n",
              "      box-shadow: 0px 1px 2px rgba(60, 64, 67, 0.3), 0px 1px 3px 1px rgba(60, 64, 67, 0.15);\n",
              "      fill: #174EA6;\n",
              "    }\n",
              "\n",
              "    [theme=dark] .colab-df-convert {\n",
              "      background-color: #3B4455;\n",
              "      fill: #D2E3FC;\n",
              "    }\n",
              "\n",
              "    [theme=dark] .colab-df-convert:hover {\n",
              "      background-color: #434B5C;\n",
              "      box-shadow: 0px 1px 3px 1px rgba(0, 0, 0, 0.15);\n",
              "      filter: drop-shadow(0px 1px 2px rgba(0, 0, 0, 0.3));\n",
              "      fill: #FFFFFF;\n",
              "    }\n",
              "  </style>\n",
              "\n",
              "      <script>\n",
              "        const buttonEl =\n",
              "          document.querySelector('#df-0aee7f6e-3295-4d09-bf7d-d497c7e50bfa button.colab-df-convert');\n",
              "        buttonEl.style.display =\n",
              "          google.colab.kernel.accessAllowed ? 'block' : 'none';\n",
              "\n",
              "        async function convertToInteractive(key) {\n",
              "          const element = document.querySelector('#df-0aee7f6e-3295-4d09-bf7d-d497c7e50bfa');\n",
              "          const dataTable =\n",
              "            await google.colab.kernel.invokeFunction('convertToInteractive',\n",
              "                                                     [key], {});\n",
              "          if (!dataTable) return;\n",
              "\n",
              "          const docLinkHtml = 'Like what you see? Visit the ' +\n",
              "            '<a target=\"_blank\" href=https://colab.research.google.com/notebooks/data_table.ipynb>data table notebook</a>'\n",
              "            + ' to learn more about interactive tables.';\n",
              "          element.innerHTML = '';\n",
              "          dataTable['output_type'] = 'display_data';\n",
              "          await google.colab.output.renderOutput(dataTable, element);\n",
              "          const docLink = document.createElement('div');\n",
              "          docLink.innerHTML = docLinkHtml;\n",
              "          element.appendChild(docLink);\n",
              "        }\n",
              "      </script>\n",
              "    </div>\n",
              "  </div>\n",
              "  "
            ],
            "text/plain": [
              "                                                                                                                                                 posts  \\\n",
              "2                                                                                                                         lifechanging experience life   \n",
              "4                                                                                                                          may perc experience immerse   \n",
              "6                        hello enfj sorry hear distress natural relationship perfection time every moment existence try figure hard times times growth   \n",
              "7                                                                                                                                        welcome stuff   \n",
              "9       prozac wellbrutin least thirty minutes moving legs dont mean moving sitting desk chair weed moderation maybe try edibles healthier alternative   \n",
              "...                                                                                                                                                ...   \n",
              "404312                                 going close facebook months back well wanting able message family ausse school friends found connected websites   \n",
              "404313                                                                                               seconds mars collections seems fitting mood right   \n",
              "404314                             seen agree actually think first time watched movie beginning got powers kinda thought andrew would never work right   \n",
              "404315                               ok watched underworld awakening must say really good film compared films last months anyway dont think good first   \n",
              "404316                                                                                  would never want turn emotions sometimes hide world still need   \n",
              "\n",
              "        type multimedia  \n",
              "2       INFJ   reg_text  \n",
              "4       INFJ   reg_text  \n",
              "6       INFJ   reg_text  \n",
              "7       INFJ   reg_text  \n",
              "9       INFJ   reg_text  \n",
              "...      ...        ...  \n",
              "404312  INFP   reg_text  \n",
              "404313  INFP   reg_text  \n",
              "404314  INFP   reg_text  \n",
              "404315  INFP   reg_text  \n",
              "404316  INFP   reg_text  \n",
              "\n",
              "[394043 rows x 3 columns]"
            ]
          },
          "execution_count": 7,
          "metadata": {},
          "output_type": "execute_result"
        }
      ],
      "source": [
        "df_filter"
      ]
    },
    {
      "cell_type": "code",
      "execution_count": null,
      "metadata": {
        "colab": {
          "base_uri": "https://localhost:8080/"
        },
        "id": "Z035raWD6RoI",
        "outputId": "a9ee94cc-51ad-4e3f-88aa-8ba6fda47b50"
      },
      "outputs": [
        {
          "data": {
            "text/plain": [
              "(394043, 3)"
            ]
          },
          "execution_count": 8,
          "metadata": {},
          "output_type": "execute_result"
        }
      ],
      "source": [
        "df_filter.shape"
      ]
    },
    {
      "cell_type": "markdown",
      "metadata": {
        "id": "YmWNGTQKEA46"
      },
      "source": [
        "### Balanced Data"
      ]
    },
    {
      "cell_type": "code",
      "execution_count": null,
      "metadata": {
        "colab": {
          "base_uri": "https://localhost:8080/"
        },
        "id": "hAbYJuwHOYqv",
        "outputId": "3fe43102-6565-453b-e58c-0fe39df127bc"
      },
      "outputs": [
        {
          "data": {
            "text/plain": [
              "INFP    85323\n",
              "INFJ    68953\n",
              "INTP    60346\n",
              "INTJ    50312\n",
              "ENTP    32629\n",
              "ENFP    31601\n",
              "ISTP    15649\n",
              "ISFP    12269\n",
              "ENTJ    10872\n",
              "ISTJ     9495\n",
              "ENFJ     8999\n",
              "ISFJ     7746\n",
              "ESTP     4160\n",
              "ESFP     2114\n",
              "ESFJ     1986\n",
              "ESTJ     1863\n",
              "Name: type, dtype: int64"
            ]
          },
          "execution_count": 9,
          "metadata": {},
          "output_type": "execute_result"
        }
      ],
      "source": [
        "df['type'].value_counts()"
      ]
    },
    {
      "cell_type": "code",
      "execution_count": null,
      "metadata": {
        "id": "brmw41J9ilFh"
      },
      "outputs": [],
      "source": [
        "# num_examples = 500  \n",
        "# df = df.head(num_examples)"
      ]
    },
    {
      "cell_type": "code",
      "execution_count": null,
      "metadata": {
        "colab": {
          "base_uri": "https://localhost:8080/"
        },
        "id": "VLDuz78WkMbl",
        "outputId": "ace26f7d-78d3-4542-95d9-09b3925c1dbf"
      },
      "outputs": [
        {
          "data": {
            "text/plain": [
              "INFP    83073\n",
              "INFJ    67250\n",
              "INTP    58686\n",
              "INTJ    49035\n",
              "ENTP    31885\n",
              "ENFP    30943\n",
              "ISTP    15213\n",
              "ISFP    11856\n",
              "ENTJ    10633\n",
              "ISTJ     9240\n",
              "ENFJ     8779\n",
              "ISFJ     7538\n",
              "ESTP     4058\n",
              "ESFP     2075\n",
              "ESFJ     1964\n",
              "ESTJ     1815\n",
              "Name: type, dtype: int64"
            ]
          },
          "execution_count": 10,
          "metadata": {},
          "output_type": "execute_result"
        }
      ],
      "source": [
        "df_filter['type'].value_counts()"
      ]
    },
    {
      "cell_type": "code",
      "execution_count": null,
      "metadata": {
        "id": "Yt7Vor55BuZt"
      },
      "outputs": [],
      "source": [
        "def passMin(type_code): \n",
        "  return df_filter[df_filter['type'] ==type_code].head(1000).copy()"
      ]
    },
    {
      "cell_type": "code",
      "execution_count": null,
      "metadata": {
        "colab": {
          "base_uri": "https://localhost:8080/"
        },
        "id": "H7ReVVUbCOoV",
        "outputId": "ce8377a0-a303-48e1-e95a-3693c9eb94a0"
      },
      "outputs": [
        {
          "name": "stderr",
          "output_type": "stream",
          "text": [
            "<ipython-input-12-7660da806dbf>:4: FutureWarning: The frame.append method is deprecated and will be removed from pandas in a future version. Use pandas.concat instead.\n",
            "  balanced_data = balanced_data.append([passMin(type_code)])\n",
            "<ipython-input-12-7660da806dbf>:4: FutureWarning: The frame.append method is deprecated and will be removed from pandas in a future version. Use pandas.concat instead.\n",
            "  balanced_data = balanced_data.append([passMin(type_code)])\n",
            "<ipython-input-12-7660da806dbf>:4: FutureWarning: The frame.append method is deprecated and will be removed from pandas in a future version. Use pandas.concat instead.\n",
            "  balanced_data = balanced_data.append([passMin(type_code)])\n",
            "<ipython-input-12-7660da806dbf>:4: FutureWarning: The frame.append method is deprecated and will be removed from pandas in a future version. Use pandas.concat instead.\n",
            "  balanced_data = balanced_data.append([passMin(type_code)])\n",
            "<ipython-input-12-7660da806dbf>:4: FutureWarning: The frame.append method is deprecated and will be removed from pandas in a future version. Use pandas.concat instead.\n",
            "  balanced_data = balanced_data.append([passMin(type_code)])\n",
            "<ipython-input-12-7660da806dbf>:4: FutureWarning: The frame.append method is deprecated and will be removed from pandas in a future version. Use pandas.concat instead.\n",
            "  balanced_data = balanced_data.append([passMin(type_code)])\n",
            "<ipython-input-12-7660da806dbf>:4: FutureWarning: The frame.append method is deprecated and will be removed from pandas in a future version. Use pandas.concat instead.\n",
            "  balanced_data = balanced_data.append([passMin(type_code)])\n",
            "<ipython-input-12-7660da806dbf>:4: FutureWarning: The frame.append method is deprecated and will be removed from pandas in a future version. Use pandas.concat instead.\n",
            "  balanced_data = balanced_data.append([passMin(type_code)])\n",
            "<ipython-input-12-7660da806dbf>:4: FutureWarning: The frame.append method is deprecated and will be removed from pandas in a future version. Use pandas.concat instead.\n",
            "  balanced_data = balanced_data.append([passMin(type_code)])\n",
            "<ipython-input-12-7660da806dbf>:4: FutureWarning: The frame.append method is deprecated and will be removed from pandas in a future version. Use pandas.concat instead.\n",
            "  balanced_data = balanced_data.append([passMin(type_code)])\n",
            "<ipython-input-12-7660da806dbf>:4: FutureWarning: The frame.append method is deprecated and will be removed from pandas in a future version. Use pandas.concat instead.\n",
            "  balanced_data = balanced_data.append([passMin(type_code)])\n",
            "<ipython-input-12-7660da806dbf>:4: FutureWarning: The frame.append method is deprecated and will be removed from pandas in a future version. Use pandas.concat instead.\n",
            "  balanced_data = balanced_data.append([passMin(type_code)])\n",
            "<ipython-input-12-7660da806dbf>:4: FutureWarning: The frame.append method is deprecated and will be removed from pandas in a future version. Use pandas.concat instead.\n",
            "  balanced_data = balanced_data.append([passMin(type_code)])\n",
            "<ipython-input-12-7660da806dbf>:4: FutureWarning: The frame.append method is deprecated and will be removed from pandas in a future version. Use pandas.concat instead.\n",
            "  balanced_data = balanced_data.append([passMin(type_code)])\n",
            "<ipython-input-12-7660da806dbf>:4: FutureWarning: The frame.append method is deprecated and will be removed from pandas in a future version. Use pandas.concat instead.\n",
            "  balanced_data = balanced_data.append([passMin(type_code)])\n",
            "<ipython-input-12-7660da806dbf>:4: FutureWarning: The frame.append method is deprecated and will be removed from pandas in a future version. Use pandas.concat instead.\n",
            "  balanced_data = balanced_data.append([passMin(type_code)])\n"
          ]
        },
        {
          "data": {
            "text/plain": [
              "INFJ    1000\n",
              "ENTP    1000\n",
              "INTP    1000\n",
              "INTJ    1000\n",
              "ENTJ    1000\n",
              "ENFJ    1000\n",
              "INFP    1000\n",
              "ENFP    1000\n",
              "ISFP    1000\n",
              "ISTP    1000\n",
              "ISFJ    1000\n",
              "ISTJ    1000\n",
              "ESTP    1000\n",
              "ESFP    1000\n",
              "ESTJ    1000\n",
              "ESFJ    1000\n",
              "Name: type, dtype: int64"
            ]
          },
          "execution_count": 12,
          "metadata": {},
          "output_type": "execute_result"
        }
      ],
      "source": [
        "balanced_data = pd.DataFrame()\n",
        "type_codes = df_filter['type'].unique()\n",
        "for type_code in type_codes[:16]: \n",
        "  balanced_data = balanced_data.append([passMin(type_code)])\n",
        "balanced_data['type'].value_counts()"
      ]
    },
    {
      "cell_type": "code",
      "execution_count": null,
      "metadata": {
        "colab": {
          "base_uri": "https://localhost:8080/",
          "height": 285
        },
        "id": "xMRcmGYoX73N",
        "outputId": "04bb0c62-3903-4997-bb6c-20ca6d4d0644"
      },
      "outputs": [
        {
          "data": {
            "text/html": [
              "\n",
              "  <div id=\"df-8798ec36-df9e-4724-af7e-9bbf2a499cdf\">\n",
              "    <div class=\"colab-df-container\">\n",
              "      <div>\n",
              "<style scoped>\n",
              "    .dataframe tbody tr th:only-of-type {\n",
              "        vertical-align: middle;\n",
              "    }\n",
              "\n",
              "    .dataframe tbody tr th {\n",
              "        vertical-align: top;\n",
              "    }\n",
              "\n",
              "    .dataframe thead th {\n",
              "        text-align: right;\n",
              "    }\n",
              "</style>\n",
              "<table border=\"1\" class=\"dataframe\">\n",
              "  <thead>\n",
              "    <tr style=\"text-align: right;\">\n",
              "      <th></th>\n",
              "      <th>posts</th>\n",
              "      <th>type</th>\n",
              "      <th>multimedia</th>\n",
              "    </tr>\n",
              "  </thead>\n",
              "  <tbody>\n",
              "    <tr>\n",
              "      <th>2</th>\n",
              "      <td>lifechanging experience life</td>\n",
              "      <td>INFJ</td>\n",
              "      <td>reg_text</td>\n",
              "    </tr>\n",
              "    <tr>\n",
              "      <th>4</th>\n",
              "      <td>may perc experience immerse</td>\n",
              "      <td>INFJ</td>\n",
              "      <td>reg_text</td>\n",
              "    </tr>\n",
              "    <tr>\n",
              "      <th>6</th>\n",
              "      <td>hello enfj sorry hear distress natural relationship perfection time every moment existence try figure hard times times growth</td>\n",
              "      <td>INFJ</td>\n",
              "      <td>reg_text</td>\n",
              "    </tr>\n",
              "    <tr>\n",
              "      <th>7</th>\n",
              "      <td>welcome stuff</td>\n",
              "      <td>INFJ</td>\n",
              "      <td>reg_text</td>\n",
              "    </tr>\n",
              "    <tr>\n",
              "      <th>9</th>\n",
              "      <td>prozac wellbrutin least thirty minutes moving legs dont mean moving sitting desk chair weed moderation maybe try edibles healthier alternative</td>\n",
              "      <td>INFJ</td>\n",
              "      <td>reg_text</td>\n",
              "    </tr>\n",
              "  </tbody>\n",
              "</table>\n",
              "</div>\n",
              "      <button class=\"colab-df-convert\" onclick=\"convertToInteractive('df-8798ec36-df9e-4724-af7e-9bbf2a499cdf')\"\n",
              "              title=\"Convert this dataframe to an interactive table.\"\n",
              "              style=\"display:none;\">\n",
              "        \n",
              "  <svg xmlns=\"http://www.w3.org/2000/svg\" height=\"24px\"viewBox=\"0 0 24 24\"\n",
              "       width=\"24px\">\n",
              "    <path d=\"M0 0h24v24H0V0z\" fill=\"none\"/>\n",
              "    <path d=\"M18.56 5.44l.94 2.06.94-2.06 2.06-.94-2.06-.94-.94-2.06-.94 2.06-2.06.94zm-11 1L8.5 8.5l.94-2.06 2.06-.94-2.06-.94L8.5 2.5l-.94 2.06-2.06.94zm10 10l.94 2.06.94-2.06 2.06-.94-2.06-.94-.94-2.06-.94 2.06-2.06.94z\"/><path d=\"M17.41 7.96l-1.37-1.37c-.4-.4-.92-.59-1.43-.59-.52 0-1.04.2-1.43.59L10.3 9.45l-7.72 7.72c-.78.78-.78 2.05 0 2.83L4 21.41c.39.39.9.59 1.41.59.51 0 1.02-.2 1.41-.59l7.78-7.78 2.81-2.81c.8-.78.8-2.07 0-2.86zM5.41 20L4 18.59l7.72-7.72 1.47 1.35L5.41 20z\"/>\n",
              "  </svg>\n",
              "      </button>\n",
              "      \n",
              "  <style>\n",
              "    .colab-df-container {\n",
              "      display:flex;\n",
              "      flex-wrap:wrap;\n",
              "      gap: 12px;\n",
              "    }\n",
              "\n",
              "    .colab-df-convert {\n",
              "      background-color: #E8F0FE;\n",
              "      border: none;\n",
              "      border-radius: 50%;\n",
              "      cursor: pointer;\n",
              "      display: none;\n",
              "      fill: #1967D2;\n",
              "      height: 32px;\n",
              "      padding: 0 0 0 0;\n",
              "      width: 32px;\n",
              "    }\n",
              "\n",
              "    .colab-df-convert:hover {\n",
              "      background-color: #E2EBFA;\n",
              "      box-shadow: 0px 1px 2px rgba(60, 64, 67, 0.3), 0px 1px 3px 1px rgba(60, 64, 67, 0.15);\n",
              "      fill: #174EA6;\n",
              "    }\n",
              "\n",
              "    [theme=dark] .colab-df-convert {\n",
              "      background-color: #3B4455;\n",
              "      fill: #D2E3FC;\n",
              "    }\n",
              "\n",
              "    [theme=dark] .colab-df-convert:hover {\n",
              "      background-color: #434B5C;\n",
              "      box-shadow: 0px 1px 3px 1px rgba(0, 0, 0, 0.15);\n",
              "      filter: drop-shadow(0px 1px 2px rgba(0, 0, 0, 0.3));\n",
              "      fill: #FFFFFF;\n",
              "    }\n",
              "  </style>\n",
              "\n",
              "      <script>\n",
              "        const buttonEl =\n",
              "          document.querySelector('#df-8798ec36-df9e-4724-af7e-9bbf2a499cdf button.colab-df-convert');\n",
              "        buttonEl.style.display =\n",
              "          google.colab.kernel.accessAllowed ? 'block' : 'none';\n",
              "\n",
              "        async function convertToInteractive(key) {\n",
              "          const element = document.querySelector('#df-8798ec36-df9e-4724-af7e-9bbf2a499cdf');\n",
              "          const dataTable =\n",
              "            await google.colab.kernel.invokeFunction('convertToInteractive',\n",
              "                                                     [key], {});\n",
              "          if (!dataTable) return;\n",
              "\n",
              "          const docLinkHtml = 'Like what you see? Visit the ' +\n",
              "            '<a target=\"_blank\" href=https://colab.research.google.com/notebooks/data_table.ipynb>data table notebook</a>'\n",
              "            + ' to learn more about interactive tables.';\n",
              "          element.innerHTML = '';\n",
              "          dataTable['output_type'] = 'display_data';\n",
              "          await google.colab.output.renderOutput(dataTable, element);\n",
              "          const docLink = document.createElement('div');\n",
              "          docLink.innerHTML = docLinkHtml;\n",
              "          element.appendChild(docLink);\n",
              "        }\n",
              "      </script>\n",
              "    </div>\n",
              "  </div>\n",
              "  "
            ],
            "text/plain": [
              "                                                                                                                                            posts  \\\n",
              "2                                                                                                                    lifechanging experience life   \n",
              "4                                                                                                                     may perc experience immerse   \n",
              "6                   hello enfj sorry hear distress natural relationship perfection time every moment existence try figure hard times times growth   \n",
              "7                                                                                                                                   welcome stuff   \n",
              "9  prozac wellbrutin least thirty minutes moving legs dont mean moving sitting desk chair weed moderation maybe try edibles healthier alternative   \n",
              "\n",
              "   type multimedia  \n",
              "2  INFJ   reg_text  \n",
              "4  INFJ   reg_text  \n",
              "6  INFJ   reg_text  \n",
              "7  INFJ   reg_text  \n",
              "9  INFJ   reg_text  "
            ]
          },
          "execution_count": 13,
          "metadata": {},
          "output_type": "execute_result"
        }
      ],
      "source": [
        "balanced_data.head(5)"
      ]
    },
    {
      "cell_type": "markdown",
      "metadata": {
        "id": "Yu-o2X5qEFP9"
      },
      "source": [
        "### Encode"
      ]
    },
    {
      "cell_type": "code",
      "execution_count": null,
      "metadata": {
        "colab": {
          "base_uri": "https://localhost:8080/"
        },
        "id": "fUunb8mnDjLM",
        "outputId": "be85b28a-962c-4e48-df32-ad3825d914b1"
      },
      "outputs": [
        {
          "data": {
            "text/html": [
              "\n",
              "  <div id=\"df-7f1a2a09-50b6-4273-bfae-6ec5b0250bf8\">\n",
              "    <div class=\"colab-df-container\">\n",
              "      <div>\n",
              "<style scoped>\n",
              "    .dataframe tbody tr th:only-of-type {\n",
              "        vertical-align: middle;\n",
              "    }\n",
              "\n",
              "    .dataframe tbody tr th {\n",
              "        vertical-align: top;\n",
              "    }\n",
              "\n",
              "    .dataframe thead th {\n",
              "        text-align: right;\n",
              "    }\n",
              "</style>\n",
              "<table border=\"1\" class=\"dataframe\">\n",
              "  <thead>\n",
              "    <tr style=\"text-align: right;\">\n",
              "      <th></th>\n",
              "      <th>posts</th>\n",
              "      <th>type</th>\n",
              "      <th>multimedia</th>\n",
              "      <th>label</th>\n",
              "    </tr>\n",
              "  </thead>\n",
              "  <tbody>\n",
              "    <tr>\n",
              "      <th>2</th>\n",
              "      <td>lifechanging experience life</td>\n",
              "      <td>INFJ</td>\n",
              "      <td>reg_text</td>\n",
              "      <td>8</td>\n",
              "    </tr>\n",
              "    <tr>\n",
              "      <th>4</th>\n",
              "      <td>may perc experience immerse</td>\n",
              "      <td>INFJ</td>\n",
              "      <td>reg_text</td>\n",
              "      <td>8</td>\n",
              "    </tr>\n",
              "    <tr>\n",
              "      <th>6</th>\n",
              "      <td>hello enfj sorry hear distress natural relationship perfection time every moment existence try figure hard times times growth</td>\n",
              "      <td>INFJ</td>\n",
              "      <td>reg_text</td>\n",
              "      <td>8</td>\n",
              "    </tr>\n",
              "    <tr>\n",
              "      <th>7</th>\n",
              "      <td>welcome stuff</td>\n",
              "      <td>INFJ</td>\n",
              "      <td>reg_text</td>\n",
              "      <td>8</td>\n",
              "    </tr>\n",
              "    <tr>\n",
              "      <th>9</th>\n",
              "      <td>prozac wellbrutin least thirty minutes moving legs dont mean moving sitting desk chair weed moderation maybe try edibles healthier alternative</td>\n",
              "      <td>INFJ</td>\n",
              "      <td>reg_text</td>\n",
              "      <td>8</td>\n",
              "    </tr>\n",
              "  </tbody>\n",
              "</table>\n",
              "</div>\n",
              "      <button class=\"colab-df-convert\" onclick=\"convertToInteractive('df-7f1a2a09-50b6-4273-bfae-6ec5b0250bf8')\"\n",
              "              title=\"Convert this dataframe to an interactive table.\"\n",
              "              style=\"display:none;\">\n",
              "        \n",
              "  <svg xmlns=\"http://www.w3.org/2000/svg\" height=\"24px\"viewBox=\"0 0 24 24\"\n",
              "       width=\"24px\">\n",
              "    <path d=\"M0 0h24v24H0V0z\" fill=\"none\"/>\n",
              "    <path d=\"M18.56 5.44l.94 2.06.94-2.06 2.06-.94-2.06-.94-.94-2.06-.94 2.06-2.06.94zm-11 1L8.5 8.5l.94-2.06 2.06-.94-2.06-.94L8.5 2.5l-.94 2.06-2.06.94zm10 10l.94 2.06.94-2.06 2.06-.94-2.06-.94-.94-2.06-.94 2.06-2.06.94z\"/><path d=\"M17.41 7.96l-1.37-1.37c-.4-.4-.92-.59-1.43-.59-.52 0-1.04.2-1.43.59L10.3 9.45l-7.72 7.72c-.78.78-.78 2.05 0 2.83L4 21.41c.39.39.9.59 1.41.59.51 0 1.02-.2 1.41-.59l7.78-7.78 2.81-2.81c.8-.78.8-2.07 0-2.86zM5.41 20L4 18.59l7.72-7.72 1.47 1.35L5.41 20z\"/>\n",
              "  </svg>\n",
              "      </button>\n",
              "      \n",
              "  <style>\n",
              "    .colab-df-container {\n",
              "      display:flex;\n",
              "      flex-wrap:wrap;\n",
              "      gap: 12px;\n",
              "    }\n",
              "\n",
              "    .colab-df-convert {\n",
              "      background-color: #E8F0FE;\n",
              "      border: none;\n",
              "      border-radius: 50%;\n",
              "      cursor: pointer;\n",
              "      display: none;\n",
              "      fill: #1967D2;\n",
              "      height: 32px;\n",
              "      padding: 0 0 0 0;\n",
              "      width: 32px;\n",
              "    }\n",
              "\n",
              "    .colab-df-convert:hover {\n",
              "      background-color: #E2EBFA;\n",
              "      box-shadow: 0px 1px 2px rgba(60, 64, 67, 0.3), 0px 1px 3px 1px rgba(60, 64, 67, 0.15);\n",
              "      fill: #174EA6;\n",
              "    }\n",
              "\n",
              "    [theme=dark] .colab-df-convert {\n",
              "      background-color: #3B4455;\n",
              "      fill: #D2E3FC;\n",
              "    }\n",
              "\n",
              "    [theme=dark] .colab-df-convert:hover {\n",
              "      background-color: #434B5C;\n",
              "      box-shadow: 0px 1px 3px 1px rgba(0, 0, 0, 0.15);\n",
              "      filter: drop-shadow(0px 1px 2px rgba(0, 0, 0, 0.3));\n",
              "      fill: #FFFFFF;\n",
              "    }\n",
              "  </style>\n",
              "\n",
              "      <script>\n",
              "        const buttonEl =\n",
              "          document.querySelector('#df-7f1a2a09-50b6-4273-bfae-6ec5b0250bf8 button.colab-df-convert');\n",
              "        buttonEl.style.display =\n",
              "          google.colab.kernel.accessAllowed ? 'block' : 'none';\n",
              "\n",
              "        async function convertToInteractive(key) {\n",
              "          const element = document.querySelector('#df-7f1a2a09-50b6-4273-bfae-6ec5b0250bf8');\n",
              "          const dataTable =\n",
              "            await google.colab.kernel.invokeFunction('convertToInteractive',\n",
              "                                                     [key], {});\n",
              "          if (!dataTable) return;\n",
              "\n",
              "          const docLinkHtml = 'Like what you see? Visit the ' +\n",
              "            '<a target=\"_blank\" href=https://colab.research.google.com/notebooks/data_table.ipynb>data table notebook</a>'\n",
              "            + ' to learn more about interactive tables.';\n",
              "          element.innerHTML = '';\n",
              "          dataTable['output_type'] = 'display_data';\n",
              "          await google.colab.output.renderOutput(dataTable, element);\n",
              "          const docLink = document.createElement('div');\n",
              "          docLink.innerHTML = docLinkHtml;\n",
              "          element.appendChild(docLink);\n",
              "        }\n",
              "      </script>\n",
              "    </div>\n",
              "  </div>\n",
              "  "
            ],
            "text/plain": [
              "                                                                                                                                            posts  \\\n",
              "2                                                                                                                    lifechanging experience life   \n",
              "4                                                                                                                     may perc experience immerse   \n",
              "6                   hello enfj sorry hear distress natural relationship perfection time every moment existence try figure hard times times growth   \n",
              "7                                                                                                                                   welcome stuff   \n",
              "9  prozac wellbrutin least thirty minutes moving legs dont mean moving sitting desk chair weed moderation maybe try edibles healthier alternative   \n",
              "\n",
              "   type multimedia  label  \n",
              "2  INFJ   reg_text      8  \n",
              "4  INFJ   reg_text      8  \n",
              "6  INFJ   reg_text      8  \n",
              "7  INFJ   reg_text      8  \n",
              "9  INFJ   reg_text      8  "
            ]
          },
          "execution_count": 14,
          "metadata": {},
          "output_type": "execute_result"
        }
      ],
      "source": [
        "label = LabelEncoder()\n",
        "balanced_data['label'] = label.fit_transform(balanced_data['type'])\n",
        "balanced_data.head(5)"
      ]
    },
    {
      "cell_type": "markdown",
      "metadata": {
        "id": "tZveSTyrGi8O"
      },
      "source": [
        "### Prepare training and testing sets"
      ]
    },
    {
      "cell_type": "code",
      "execution_count": null,
      "metadata": {
        "colab": {
          "base_uri": "https://localhost:8080/"
        },
        "id": "hQ4VfYuubh1e",
        "outputId": "ab2f7120-03a3-487d-b9a2-c6bbc03fc2e5"
      },
      "outputs": [
        {
          "data": {
            "text/plain": [
              "8     1000\n",
              "3     1000\n",
              "11    1000\n",
              "10    1000\n",
              "2     1000\n",
              "0     1000\n",
              "9     1000\n",
              "1     1000\n",
              "13    1000\n",
              "15    1000\n",
              "12    1000\n",
              "14    1000\n",
              "7     1000\n",
              "5     1000\n",
              "6     1000\n",
              "4     1000\n",
              "Name: label, dtype: int64"
            ]
          },
          "execution_count": 15,
          "metadata": {},
          "output_type": "execute_result"
        }
      ],
      "source": [
        "balanced_data['label'].value_counts()"
      ]
    },
    {
      "cell_type": "code",
      "execution_count": null,
      "metadata": {
        "id": "AThl6aisnCNo"
      },
      "outputs": [],
      "source": []
    },
    {
      "cell_type": "code",
      "execution_count": null,
      "metadata": {
        "id": "SfU5yla_hBUq"
      },
      "outputs": [],
      "source": [
        "X = balanced_data['posts']\n",
        "y = balanced_data['label']"
      ]
    },
    {
      "cell_type": "code",
      "execution_count": null,
      "metadata": {
        "colab": {
          "base_uri": "https://localhost:8080/"
        },
        "id": "2v_xZaEknENb",
        "outputId": "262cee2d-1f52-4a7a-9d62-0ea89ad13f9b"
      },
      "outputs": [
        {
          "data": {
            "text/plain": [
              "2                                                                                                                           lifechanging experience life\n",
              "4                                                                                                                            may perc experience immerse\n",
              "6                          hello enfj sorry hear distress natural relationship perfection time every moment existence try figure hard times times growth\n",
              "7                                                                                                                                          welcome stuff\n",
              "9         prozac wellbrutin least thirty minutes moving legs dont mean moving sitting desk chair weed moderation maybe try edibles healthier alternative\n",
              "                                                                               ...                                                                      \n",
              "222994                                     type chad kelsi taylor think troy esfj gabriella intj ryan enfp sharpay entj chad isfj taylor estj kelsi infj\n",
              "222995                                                                                                                                             black\n",
              "222996                           answer things adventures seem ne definitely fe extroverted qualities emotional fi ne sure risk taking behavior maybe se\n",
              "222997                                        inclined believe enfj dont really think esfj although enfjs esfjs similar dominant fe function think enfjs\n",
              "222998                                 hi two best friends enfps love love get along well depends esfj whether using functions healthy way interests etc\n",
              "Name: posts, Length: 16000, dtype: object"
            ]
          },
          "execution_count": 17,
          "metadata": {},
          "output_type": "execute_result"
        }
      ],
      "source": [
        "X"
      ]
    },
    {
      "cell_type": "code",
      "execution_count": null,
      "metadata": {
        "id": "0n8lxiM3cv2b"
      },
      "outputs": [],
      "source": [
        "#balanced_data['posts'] = balanced_data['posts'].apply(lambda x: x[:100])"
      ]
    },
    {
      "cell_type": "code",
      "execution_count": null,
      "metadata": {
        "id": "6uARy3bgG5qf"
      },
      "outputs": [],
      "source": [
        "X_train, X_test, y_train, y_test = train_test_split(list(X), list(y), test_size = 0.25, random_state = 0)"
      ]
    },
    {
      "cell_type": "code",
      "execution_count": null,
      "metadata": {
        "colab": {
          "base_uri": "https://localhost:8080/"
        },
        "id": "BrKL7JTHQVP3",
        "outputId": "b2772a81-952a-4e22-e034-841b0bf5747b"
      },
      "outputs": [
        {
          "name": "stdout",
          "output_type": "stream",
          "text": [
            "12000\n",
            "4000\n"
          ]
        }
      ],
      "source": [
        "print(len(X_train))\n",
        "print(len(X_test))"
      ]
    },
    {
      "cell_type": "code",
      "execution_count": null,
      "metadata": {
        "id": "h79v8AKPhngM"
      },
      "outputs": [],
      "source": []
    },
    {
      "cell_type": "markdown",
      "metadata": {
        "id": "aZAX67MDHF09"
      },
      "source": [
        "### Get the embeddings of the posts "
      ]
    },
    {
      "cell_type": "code",
      "execution_count": null,
      "metadata": {
        "id": "njRk27IVhK77"
      },
      "outputs": [],
      "source": [
        "# ADD YOUR API KEY HERE\n",
        "api_key = \"7mHjN9V4dW4djta6LdGoXFXlpMwScsIuPdYK6URf\"\n",
        "\n",
        "# Create and retrieve a Cohere API key from os.cohere.ai\n",
        "co = cohere.Client(api_key)"
      ]
    },
    {
      "cell_type": "code",
      "execution_count": null,
      "metadata": {
        "id": "-5gmyhMnhQGs"
      },
      "outputs": [],
      "source": [
        "# Embed the training set\n",
        "import time \n",
        "embeddings_tests = [] \n",
        "embeddings_trains = []\n",
        "try_train = []\n",
        "try_test = []\n",
        "copy_X_train = X_train \n",
        "copy_X_test = X_test\n",
        "for i in range(24): \n",
        "  try_train = copy_X_train[:500]\n",
        "  embeddings_trains.append(co.embed(texts=try_train,\n",
        "                              model=\"large\",\n",
        "                              truncate=\"LEFT\").embeddings)\n",
        "  \n",
        "  copy_X_train = copy_X_train[500:]\n",
        " \n",
        "  if i <= 19: #19\n",
        "    try_test = copy_X_test[:200]\n",
        "    embeddings_tests.append(co.embed(texts=try_test,\n",
        "                                model=\"large\",\n",
        "                                truncate=\"LEFT\").embeddings) \n",
        "    copy_X_test = copy_X_test[200:]\n",
        "  time.sleep(60) #set a minute"
      ]
    },
    {
      "cell_type": "code",
      "execution_count": null,
      "metadata": {
        "colab": {
          "base_uri": "https://localhost:8080/"
        },
        "id": "_FBdrrbeAF0X",
        "outputId": "c81b8d6a-b737-43cf-8064-1b093f2b21ff"
      },
      "outputs": [
        {
          "name": "stdout",
          "output_type": "stream",
          "text": [
            "12000\n",
            "4000\n"
          ]
        }
      ],
      "source": [
        "embeddings_train = [elem for twod in embeddings_trains for elem in twod]\n",
        "embeddings_test = [elem for twod in embeddings_tests for elem in twod]\n",
        "print((len(embeddings_train)))\n",
        "print(len(embeddings_test))"
      ]
    },
    {
      "cell_type": "code",
      "execution_count": null,
      "metadata": {
        "colab": {
          "base_uri": "https://localhost:8080/"
        },
        "id": "pFL_c4W0qvCu",
        "outputId": "fd36fad0-e760-4d1b-968f-9199e65087c5"
      },
      "outputs": [
        {
          "name": "stdout",
          "output_type": "stream",
          "text": [
            "Embedding vector: [0.49047852, -0.18029785, 1.2509766, -0.30639648, -0.9399414, 0.3347168, 1.3789062, 0.31298828, 0.85009766, -1.5380859]\n"
          ]
        }
      ],
      "source": [
        "#print(f\"Review text: {X_train[0]}\")\n",
        "print(f\"Embedding vector: {embeddings_train[0][:10]}\")"
      ]
    },
    {
      "cell_type": "markdown",
      "metadata": {
        "id": "ZO1F-hZiJ6Se"
      },
      "source": [
        "### Train a classifier using the training set"
      ]
    },
    {
      "cell_type": "code",
      "execution_count": null,
      "metadata": {
        "id": "UP1s7LNHJ5gw"
      },
      "outputs": [],
      "source": [
        "# import SVM classifier code\n",
        "from sklearn.svm import SVC\n",
        "from sklearn.pipeline import make_pipeline\n",
        "from sklearn.preprocessing import StandardScaler"
      ]
    },
    {
      "cell_type": "code",
      "execution_count": null,
      "metadata": {
        "colab": {
          "base_uri": "https://localhost:8080/"
        },
        "id": "dDWfPM7wIrNg",
        "outputId": "a7836217-d116-424a-b389-4018191a0066"
      },
      "outputs": [
        {
          "data": {
            "text/plain": [
              "Pipeline(steps=[('standardscaler', StandardScaler()),\n",
              "                ('svc', SVC(class_weight='balanced'))])"
            ]
          },
          "execution_count": 25,
          "metadata": {},
          "output_type": "execute_result"
        }
      ],
      "source": [
        "svm_classifier = make_pipeline(StandardScaler(), SVC(class_weight='balanced')) \n",
        "svm_classifier.fit(embeddings_train, y_train)"
      ]
    },
    {
      "cell_type": "code",
      "execution_count": null,
      "metadata": {
        "colab": {
          "base_uri": "https://localhost:8080/"
        },
        "id": "hsH2V9eJH434",
        "outputId": "76289b65-3c4b-43c2-a95d-2ec9e72f122d"
      },
      "outputs": [
        {
          "name": "stdout",
          "output_type": "stream",
          "text": [
            "Validation accuracy on Large is 18.925%!\n"
          ]
        }
      ],
      "source": [
        "\n",
        "# get the score from the test set, and print it out to screen!\n",
        "score = svm_classifier.score(embeddings_test, y_test)\n",
        "print(f\"Validation accuracy on Large is {100*score}%!\")\n"
      ]
    },
    {
      "cell_type": "code",
      "execution_count": null,
      "metadata": {
        "id": "FKgaukiYpo0s"
      },
      "outputs": [],
      "source": [
        "import joblib"
      ]
    },
    {
      "cell_type": "code",
      "execution_count": null,
      "metadata": {
        "colab": {
          "base_uri": "https://localhost:8080/"
        },
        "id": "goSRLqbSpoXY",
        "outputId": "e290c415-cdc8-4d85-e08d-185387f25410"
      },
      "outputs": [
        {
          "data": {
            "text/plain": [
              "['Completed_model.joblib']"
            ]
          },
          "execution_count": 28,
          "metadata": {},
          "output_type": "execute_result"
        }
      ],
      "source": [
        "filename = \"Completed_model.joblib\"\n",
        "joblib.dump(svm_classifier, filename)"
      ]
    },
    {
      "cell_type": "code",
      "execution_count": null,
      "metadata": {
        "colab": {
          "base_uri": "https://localhost:8080/"
        },
        "id": "EZ5rOiz0-UmY",
        "outputId": "915f7c7d-dcd2-42ec-fac2-929cf2b957c3"
      },
      "outputs": [
        {
          "name": "stdout",
          "output_type": "stream",
          "text": [
            "0.18925\n"
          ]
        }
      ],
      "source": [
        "loaded_model = joblib.load(filename)\n",
        "result = loaded_model.score(embeddings_test, y_test)\n",
        "print(result)"
      ]
    },
    {
      "cell_type": "markdown",
      "source": [
        "**Predict**\n"
      ],
      "metadata": {
        "id": "9h1yvxLXcA8S"
      }
    },
    {
      "cell_type": "code",
      "source": [
        "texts=[\" answer things adventures seem ne definitely fe extroverted qualities\"]\n",
        "response = co.embed(texts)\n",
        "print('Embeddings: {}'.format(response.embeddings))"
      ],
      "metadata": {
        "colab": {
          "base_uri": "https://localhost:8080/"
        },
        "id": "ESH20OT11NPO",
        "outputId": "a41dd790-4c7d-431a-be19-2d978c18c4e0"
      },
      "execution_count": 36,
      "outputs": [
        {
          "output_type": "stream",
          "name": "stdout",
          "text": [
            "Embeddings: [[0.5253906, -0.5864258, -1.0371094, 0.3317871, -0.34033203, -1.4882812, -0.16992188, -0.5136719, 0.014694214, -1.7666016, 0.6308594, 2.4121094, -0.31469727, 0.7949219, 0.7841797, 1.6962891, -1.40625, 0.5703125, -1.4228516, -0.8676758, -2.3789062, 0.57373047, 2.2226562, -0.77685547, -2.0800781, -3.3945312, -1.8583984, 2.1230469, -1.0585938, -0.9560547, -0.2783203, 0.07720947, -1.2744141, 0.20983887, 1.2333984, 1.3017578, 0.68310547, 0.66845703, -1.0625, 1.5878906, 2.5292969, -1.5839844, 0.6557617, -0.24572754, -1.2363281, 2.5136719, 0.06890869, -2.8203125, -1.4599609, 1.0244141, 1.8251953, 0.6269531, 0.38452148, -1.0830078, 2.5195312, -0.6503906, 1.4443359, -0.5317383, -2.7578125, -0.30126953, -0.6542969, -0.7675781, 0.04647827, -1.0566406, -0.0010433197, 1.1533203, -0.32885742, -0.53466797, -0.06719971, 1.640625, -0.2734375, 2.0546875, 2.3046875, 0.8925781, 0.66845703, -0.6879883, 2.4296875, -0.8364258, 0.34643555, 2.3203125, 0.17211914, -0.9448242, -1.4902344, 2.28125, -1.0458984, 0.79248047, -0.22692871, 0.5883789, -0.4741211, 1.4335938, -0.062408447, 0.62060547, -2.1210938, -1.2246094, -0.71972656, 0.64697266, 2.6621094, 0.90966797, -0.9794922, -0.2849121, 0.066345215, 2.4707031, -0.2758789, 1.0166016, -1.2939453, -2.1230469, -0.27954102, 0.076293945, 0.46411133, 2.7988281, 0.54541016, -2.6367188, 1.0908203, 0.7241211, -0.032165527, -0.984375, 0.42895508, -0.39038086, 0.092163086, 0.18432617, 0.15075684, -0.39916992, 0.72265625, 1.4570312, 1.2099609, -2.2734375, 0.15808105, 0.122802734, -0.68603516, -1.0371094, -0.88427734, -0.6015625, -0.3786621, -0.15307617, -0.08380127, -0.29638672, 0.18737793, 1.8027344, -0.44628906, -2.3847656, 0.73095703, 1.9052734, -1.4677734, 1.5996094, -0.3005371, 1.7929688, 1.2919922, 0.9863281, 0.52978516, -0.24719238, -1.4853516, -0.9135742, 0.10015869, 2.5742188, 2.0527344, 0.93310547, 0.9941406, 1.0498047, -2.0195312, 2.2128906, 1.2958984, -0.06774902, 0.34692383, 1.4560547, -1.6396484, -0.35107422, 1.1279297, 2.5917969, 0.38427734, -2.6230469, 0.41235352, -0.7416992, 0.4724121, -2.1191406, 0.4567871, 0.46264648, -0.1973877, 0.18310547, -1.7900391, 1.9755859, 0.0395813, 0.22265625, -1.0253906, 1.7412109, -0.3798828, 2.3828125, -0.45288086, -3.2421875, -0.4345703, -1.9902344, 0.3959961, -2.7109375, -0.019104004, -0.18151855, -1.359375, 0.9121094, -1.0732422, -1.5478516, -0.5620117, -0.2133789, 0.51953125, 0.25341797, 1.8759766, -2.2929688, 1.5869141, 0.94384766, -0.84716797, 0.95751953, 1.7871094, 0.76220703, -0.98291016, -1.0478516, 0.29223633, 0.4169922, -2.7421875, -0.2932129, 0.1439209, 3.2519531, 0.24853516, -0.024505615, 0.28881836, -2.1230469, 0.5493164, -0.9824219, -0.42407227, 3.2382812, 1.6630859, -0.7651367, 0.7910156, -0.29589844, -0.19299316, -1.7929688, -1.2041016, 0.019348145, -0.9716797, -2.5800781, 2.2304688, 2.625, -1.9365234, 0.17919922, -0.2010498, -1.8525391, -1.1787109, -0.13269043, -0.23486328, -0.3388672, -1.3330078, 0.375, 0.4038086, -1.9228516, 1.7099609, 0.35205078, -0.20983887, 2.0800781, 0.35595703, 0.21826172, -0.15014648, -0.69091797, -0.5395508, -1.3271484, 2.6347656, -0.3959961, -0.109802246, 1.9472656, 1.1875, -1.2539062, 0.9013672, -2.1054688, 0.5541992, -2.6386719, -0.2541504, 0.43579102, 4.0234375, 0.37280273, 0.21472168, 0.7729492, -1.9853516, -0.0090789795, -1.5849609, 1.6318359, -0.38671875, -0.07513428, -3.1445312, -1.0634766, 0.92626953, 2.7421875, 2.3515625, -0.21081543, 0.4399414, 1.296875, 0.48754883, -0.24145508, 2.4296875, 0.33032227, 0.43847656, -1.5068359, -0.31420898, -0.484375, -0.8847656, 0.03137207, -1.1728516, -0.123413086, -0.7338867, -0.02255249, 1.7460938, -0.27294922, -0.3173828, -0.6386719, 1.1474609, 1.1455078, 0.54345703, 1.2539062, -0.027633667, 1.6416016, -0.9160156, 0.6333008, -0.34936523, 1.5595703, 0.9033203, -0.18249512, 0.55029297, -1.4912109, 1.1523438, 2.265625, 0.16625977, 0.13085938, -0.90478516, 1.3837891, 0.036102295, 0.8359375, -0.17687988, 1.8603516, -2.7792969, 1.4775391, 0.34033203, -1.5742188, -0.31811523, -1.1601562, -0.33862305, 0.7285156, -0.9550781, 0.19262695, -0.5595703, -0.69873047, -2.3046875, 0.47973633, -3.09375, 0.6816406, 1.7685547, 0.2854004, -0.27734375, 0.64990234, 2.96875, 1.0898438, 0.1850586, 0.51708984, 0.059295654, 1.0820312, -2.21875, 1.2412109, -0.47436523, -0.2824707, -1.4082031, -0.27490234, 2.0644531, -1.0693359, 0.33813477, 1.5400391, 2.5546875, -1.7910156, 0.09301758, 1.8710938, 0.8642578, -0.07299805, -0.55029297, 1.2480469, 0.11871338, -0.57714844, -0.7109375, -1.9628906, 0.109191895, 0.77490234, -2.7421875, -0.82373047, 0.18249512, -0.47827148, 0.1854248, -3.9121094, -4.5585938, 2.5742188, -2.7675781, -2.2988281, 1.4277344, 1.7070312, -2.0097656, -0.21520996, 1.6445312, -0.38500977, -1.2197266, -0.9838867, -0.96533203, -0.8144531, 0.24072266, 0.5415039, -2.2109375, 2.1191406, -1.0253906, 0.49047852, -0.30981445, 1.7197266, -1.6875, 1.7119141, -0.7988281, 0.019058228, 1.8066406, 0.3310547, -1.1201172, 0.8027344, 2.8925781, -0.20617676, 1.4941406, 0.12780762, 0.31958008, 1.1035156, -2.0097656, -0.14343262, 0.8125, 1.9677734, 3.0820312, -1.9414062, 1.3505859, -0.4140625, -2.0058594, -0.004573822, -1.9208984, -1.6083984, 0.36499023, -0.5131836, -2.0976562, 1.0595703, -0.18151855, -1.0410156, 0.4375, 0.46899414, 1.0449219, 3.2128906, 0.54589844, -0.31079102, -0.43115234, 1.1542969, 0.4946289, -0.36743164, -1.8945312, -1.3095703, -1.0429688, 0.24658203, -0.25439453, 0.79345703, 0.42944336, -0.5385742, 1.1835938, -1.6777344, -0.9223633, 1.2929688, -0.23327637, 0.8076172, -0.6542969, 1.2763672, 0.8808594, 0.4111328, 0.18322754, -0.7050781, -0.1026001, 1.0332031, -0.2841797, -2.6289062, -1.5615234, 1.0585938, -0.061431885, -1.5351562, -3.6484375, -1.2558594, 0.1887207, 0.47753906, -0.78125, -0.33398438, 0.7792969, 2.0058594, -0.19458008, 0.7314453, 0.9423828, 3.1328125, -2.4707031, 0.68310547, 0.34936523, -0.31958008, 0.31567383, -1.0048828, 0.97998047, 1.3320312, -0.2770996, -1.3388672, 0.040222168, 1.4472656, -1.515625, 2.3300781, 0.6801758, -1.2568359, -1.4306641, 1.0068359, 1.4150391, -1.6308594, -0.060638428, -0.59521484, -0.59033203, -1.1132812, -0.8339844, -0.7714844, -0.9604492, 2.1738281, -2.3300781, 0.6713867, 0.80615234, -0.65625, 1.0664062, 2.3378906, -1.546875, 0.9736328, -2.1875, 0.09234619, 0.27734375, 0.59716797, 0.4819336, 2.2695312, -0.8989258, 1.6533203, -0.1821289, -2.2011719, 0.8623047, 0.76708984, 1.1474609, 0.5629883, -0.36865234, -0.28149414, 0.87939453, -0.4501953, 0.49194336, 2.1894531, 1.8085938, -1.2568359, -2.8339844, 1.6318359, 0.8989258, -0.28881836, -3.1503906, -0.8066406, -0.59814453, 0.13977051, -0.87646484, -0.6542969, -3.4453125, 1.9873047, -1.1289062, -0.012207031, -0.33813477, 0.14831543, -0.22155762, 0.66308594, 0.9638672, 0.14343262, -0.6323242, 0.67529297, 1.7255859, -2.2480469, 4.953125, -0.69873047, -0.26098633, -0.6635742, 0.49609375, 0.17297363, -0.90771484, 0.59375, -0.8208008, -0.06616211, -0.15783691, 1.1708984, 2.2128906, 2.9746094, -0.60595703, -2.0273438, 0.40234375, 0.8964844, 0.55078125, 1.8994141, -0.30566406, -0.3486328, 0.1850586, -1.3349609, 2.7109375, -0.27416992, -2.5800781, -0.9658203, 0.0803833, -0.6142578, 1.2216797, 1.2841797, 0.90771484, 1.4101562, 0.38916016, 1.0087891, 0.63720703, 0.44628906, 0.2208252, -0.022720337, 0.77978516, 1.0205078, 0.5991211, -0.17834473, 0.40795898, -2.6503906, 1.0097656, 1.7216797, -0.010032654, -1.5537109, 0.013404846, 0.68310547, 2.2851562, -2.7480469, -0.009765625, -0.45385742, -1.3095703, -1.5341797, 2.1816406, -2.0683594, -0.4165039, 0.7626953, -0.83251953, 2.2167969, 0.5473633, -2.0292969, 0.39160156, -2.546875, -0.21728516, -1.1201172, 0.2626953, -0.9770508, 2.9921875, -2.1738281, 3.5996094, -0.06072998, -1.0380859, 1.3808594, -1.2802734, 1.2539062, 0.6557617, -0.8417969, -2.0546875, -0.17346191, -0.32348633, 1.5283203, 1.4619141, -1.3945312, 0.4482422, 1.3320312, 1.90625, -0.9316406, -1.4814453, -0.6738281, 0.5307617, -3.2871094, -0.9736328, -1.3212891, -1.8369141, -2.9023438, 0.29638672, -1.4746094, 0.21960449, -1.8427734, 0.68408203, -1.6210938, 2.5078125, 0.76708984, -2.7460938, -0.39990234, 1.1269531, 0.66259766, -0.2619629, -0.42871094, -0.16992188, 3.5253906, 2.2441406, -0.5527344, -0.31689453, 0.20788574, -0.5083008, 0.6723633, -2.6015625, 0.6245117, 1.2451172, 0.040496826, 0.3161621, 0.5097656, 0.081604004, 2.125, 0.014961243, -0.17773438, -2.4511719, -0.2097168, -4.28125, 1.2392578, 1.2900391, 0.5317383, -0.43896484, 0.0690918, 0.85595703, 1.1621094, -0.19030762, -0.5883789, -1.109375, -0.09320068, 0.15344238, -0.19494629, 1.6318359, -2.5859375, 0.23388672, -3.2949219, -0.20812988, 0.5, 0.9453125, 0.5673828, -1.0380859, 0.83740234, -2.6503906, 0.19995117, -0.18054199, -0.6977539, -0.72802734, -1.5722656, -2.7734375, -0.83154297, -2.8984375, 0.9111328, 0.5913086, -1.7041016, 0.85498047, 1.0068359, -2.1328125, -0.30371094, -0.41186523, 0.7426758, -1.6289062, -0.51660156, 0.16711426, -0.46020508, 1.2802734, -1.6240234, -0.52734375, -1.4023438, -0.025131226, -0.049194336, -1.3994141, -2.40625, -1.0517578, 0.10845947, 1.8408203, 0.30688477, 1.171875, -1.8974609, 1.4121094, -0.1182251, 0.8276367, -5.5234375, -0.062561035, -1.1445312, -0.8828125, -0.4248047, 0.17333984, -1.6347656, -1.9003906, 0.10900879, 0.2770996, -0.23620605, 1.1533203, 0.35229492, 0.15124512, -0.17443848, 1.2177734, -1.1787109, 1.2587891, 1.6181641, -1.3720703, 0.08880615, 0.23278809, 1.6123047, 1.3623047, -0.43847656, -4.6601562, -1.1396484, -1.8583984, -0.39916992, 4.1289062, -1.7412109, 1.4335938, -0.7104492, 0.40307617, 1.0537109, -4.1210938, -1.1650391, 0.5415039, 0.62060547, -1.6220703, -1.25, -2.7949219, -0.66308594, 0.10992432, -0.099975586, -1.8789062, 0.25048828, 1.5664062, -1.2480469, 1.3613281, -1.7626953, 2.015625, 0.375, 0.859375, 1.8125, -1.8564453, 0.3779297, 0.78759766, -1.3886719, 0.1307373, -1.2099609, -0.52441406, 0.6098633, 0.12072754, 0.28320312, 1.4755859, 1.1152344, -0.21398926, -1.5273438, -2.5234375, 0.06085205, 0.5185547, 0.99853516, -1.8876953, -6.1601562, -0.7011719, 1.2822266, -1.8554688, 0.074523926, -1.5410156, -0.04348755, -0.24987793, 1.3613281, 0.05496216, 0.7548828, -1.7431641, -1.0585938, -2.875, -1.6367188, 2.0703125, -0.5708008, 0.08892822, 2.1054688, -2.6269531, -1.5712891, -0.39038086, -0.6542969, -1.5869141, -1.65625, 0.45483398, -1.1699219, 0.06542969, 0.8847656, -1.7314453, -0.37426758, 0.3869629, 0.09643555, 1.859375, 3, -0.15075684, 1.0625, 0.30688477, -0.27905273, -0.12731934, -0.76416016, 0.87646484, -1.0429688, -1.3007812, -1.9746094, 0.5917969, -1.6904297, -0.1459961, -2.2402344, 1.4492188, 3.1875, 0.98779297, -0.47192383, 1.4726562, 4.8164062, 0.44995117, 2.4394531, 0.82958984, -0.12365723, -0.96435547, 0.024276733, -1.8251953, -0.9838867, -1.6181641, 1.1962891, 2.5546875, 1.7685547, 1.1035156, -3.3984375, -2.0488281, -0.55566406, 0.93310547, 0.19177246, -0.89404297, 0.70703125, 0.2680664, -0.7597656, -2.2011719, -0.63916016, -2.5703125, -0.052734375, -1.1904297, 2.0136719, 0.062561035, 0.7182617, -0.82958984, -0.9326172, -1.2705078, 0.26757812, -0.8286133, 0.12780762, -1.0039062, -0.43725586, -1.8251953, -1.9414062, 0.058013916, 0.98876953, 0.15820312, 1.9335938, -0.19226074, -1.8125, -1.0507812, -0.5385742, -0.055389404, 0.33496094, -0.55615234, -1.1865234, 1.0615234, -3.7382812, -3.2421875, -1.3115234, 0.032440186, 0.35327148, 2.3515625, 0.3947754, 1.4306641, 1.3535156, 2.015625, 0.0016088486, -2.2050781, 3.5605469, 0.5449219, -2.5957031, 0.060760498, -0.67529297, 2.4453125, 1, 2.5625, 1.9287109, -0.43896484, -0.5136719, -0.94970703, -1.1533203, 0.40795898, 2.5664062, -0.82470703, -0.09729004, 0.2446289, -0.64697266, -0.6064453, 3.0117188, -0.58935547, -1.0917969, -1.2177734, -2.6191406, 0.984375, 2.7617188, -2.6269531, 0.875, -0.16882324, -0.17590332, -0.04989624, -2.5078125, -1.2001953, -1.7216797, 0.5239258, 1.3837891, -1.4453125, 1.9775391, -1.0351562, -2.21875, -2.6054688, -1.2744141, -2.6542969, -2.1816406, 1.0166016, 1.1445312, -0.64404297, -0.09301758, 1.5097656, -0.31933594, 1.0703125, 0.39868164, -0.4506836, 1.4414062, 0.12072754, -0.45532227, -0.3869629, -1.6972656, 0.5234375, 1.8095703, 0.45703125, 0.34472656, 1.7333984, 0.7470703, 0.9658203, -0.36694336, 5.3007812, -0.21801758, 2.5898438, -1.0537109, 0.6699219, 1.4599609, 1.0166016, 0.17944336, -0.9213867, 0.23632812, 0.099365234, -0.36816406, -0.5048828, 1.7304688, -0.28759766, -0.3400879, 1.0898438, 2.6484375, 1.3427734, 1.7441406, -0.3017578, 1.1591797, -0.34179688, 0.7036133, -0.9589844, 1.6445312, -0.21240234, 0.3955078, -2.0371094, 0.2578125, -0.4013672, -5.8085938, -0.7988281, 1.0107422, 0.23095703, -1.0400391, 0.48583984, 0.15649414, -0.73583984, 0.67871094, 1.7929688, -0.8125, -1.5810547, -0.859375, 0.18408203, 2.2871094, 0.94873047, -0.98583984, -0.2614746, 1.1298828, 0.6118164, -0.56591797, 0.24951172, -1.7041016, 1.4912109, -0.72802734, -0.08404541, -0.48339844, 0.8676758, 2.6992188, 0.028457642, -0.6225586, -1.7529297, 0.3544922, 0.06915283, 0.39819336, 0.21362305, -0.7128906, 0.8129883, 1.0683594, -0.57666016, 0.82177734, -0.18249512, 1.3007812, 1.4160156, 1.375, 0.9291992, 0.49243164, -0.3540039, -1.4462891, -2.4394531, 0.828125, 2.7011719, -0.9604492, 2.2304688, -0.50634766, -1.4101562, 0.60595703, 0.75341797, -0.8515625, -0.35229492, 0.46557617, -3.6445312, -0.020553589, 0.16113281, 0.9140625, 1.3056641, 0.98291016, -0.32836914, -2.7890625, 1.8603516, -0.85009766, 0.23632812, 0.2626953, 1.5507812, -0.38891602, -0.6977539, -1.0429688, 0.46313477, 2.0195312, 1.3984375, 2.6171875, 0.9951172, 0.4729004, -0.32421875, 1.828125, -0.25634766, 0.8588867, -0.5097656, 0.15283203, -1.2880859, 0.67333984, -1.6435547, 4.0039062, 1.2910156, -1.6523438, -0.32128906, -0.48657227, 0.1628418, 1.4394531, -0.1583252, -3.1894531, -0.56884766, -0.15466309, -0.1459961, 0.44702148, -0.7314453, -1.2744141, -1.1220703, 1.5214844, -1.1601562, 2.3378906, -1.5400391, 0.04824829, 1.3457031, 0.43432617, 0.24658203, -1.1708984, -0.050964355, -0.8833008, 0.2355957, -2.1171875, 0.3244629, 4.2460938, 0.38208008, 0.44702148, -1.2285156, -3.3671875, 1.4150391, 2.6386719, -1.0039062, -1.0390625, -0.68310547, 0.92822266, 0.00083208084, 3.3769531, -1.6679688, 0.9536133, -1.265625, 1.8535156, 0.26342773, 1.5693359, 2.3769531, 1.1601562, -0.6254883, 1.9052734, 1.3232422, 1.5507812, -0.17285156, -0.5957031, 2.4179688, -2.3886719, -0.6738281, -0.19335938, -3.3261719, 1.3994141, 1.2861328, 0.28198242, 0.7832031, -0.34228516, -0.3005371, 1.3037109, 0.5698242, -0.9082031, 1.1396484, 0.83740234, 0.8847656, -0.37963867, 1.0478516, -2.5761719, -0.6152344, 0.95654297, -0.06616211, -0.9482422, 1.1367188, -0.54248047, 0.5644531, 0.11968994, -0.96875, 1.3994141, 1.8369141, -1.3349609, -1.2421875, -1.4941406, -0.12243652, 1.0224609, 1.1484375, 0.7421875, -0.4658203, 1.6787109, 1.7617188, 1.9775391, 1.6621094, -0.54248047, 1.7470703, 0.24768066, 3.0644531, -0.5527344, -2.0253906, -0.41723633, 2.0527344, 0.48413086, -0.6308594, -0.42749023, 1.5839844, -1.5595703, -0.9794922, 1.4833984, -0.54052734, -0.33496094, 0.8232422, -1.5996094, 1.2490234, 2.7285156, 0.4345703, -1.6474609, -1.578125, -0.19885254, 4.0390625, 11.0625, -1.125, -0.61865234, 0.06072998, 2.3144531, -0.32885742, -0.8417969, 2.4707031, 2.8222656, 0.27148438, -2.2128906, -3.1386719, -0.19812012, -1.4257812, 0.9345703, -0.8671875, 0.6123047, 0.34716797, 0.18066406, 1.2480469, -0.8203125, -0.8964844, 0.45629883, -1.4589844, -0.48608398, 0.4958496, -0.29174805, 0.6098633, -0.10357666, -4.59375, 0.4272461, -2.2578125, 0.35180664, 0.11810303, 0.58251953, -1.4560547, -1.1572266, -0.17419434, -1.2294922, -1.5712891, -0.008522034, 1.1484375, 1.4462891, -0.72558594, 1.3271484, -4.1835938, -0.04724121, -0.5097656, 2.4296875, -0.76123047, 0.060333252, -1.9560547, 1.2197266, 2.1191406, 1.5097656, -0.51904297, -0.38208008, 0.56591797, -0.19641113, -1.75, 0.24499512, -0.8808594, -0.058898926, -0.66748047, -1.2431641, 0.03591919, 0.93896484, -0.77001953, -1.8115234, 1.2919922, 0.2775879, -0.87353516, 0.5620117, 1.4248047, 0.1665039, -0.15600586, 0.7055664, -0.44067383, 1.2998047, -1.8818359, 0.55322266, 0.640625, -0.515625, 1.5537109, -0.06323242, 0.028366089, 0.84521484, 4.4726562, -0.8310547, 0.18859863, -0.66015625, -0.19250488, -1.0703125, 0.99365234, 1.4179688, -1.9121094, -0.82373047, 0.7636719, -0.64501953, 0.40625, -1.8837891, -1.3681641, -0.2631836, 2.0332031, -3.0292969, 1.2666016, 1.9384766, -0.46313477, -0.86572266, -1.1523438, -0.23046875, -0.51123047, 0.2130127, 0.609375, -1.0644531, 0.088256836, -0.5917969, 0.25170898, 0.36279297, 1.7099609, -0.5620117, 1.8212891, 0.34521484, 2.28125, -0.3791504, 1.5507812, -0.8823242, 1.4414062, -1.0976562, 0.9916992, 0.25146484, -0.54345703, -0.5786133, -0.31640625, -0.17211914, -0.5830078, 1.7314453, -0.4807129, 0.40771484, 0.6621094, -0.016601562, -0.97802734, 0.0069465637, -0.4819336, 1.3476562, 0.38378906, -0.010185242, -1.9589844, 1.1572266, -1.6240234, 2.8574219, 0.40063477, 0.8691406, 2.4199219, -2.2265625, -0.7192383, -2.7382812, -0.3557129, -2.8417969, 1.6210938, -0.9345703, 0.43139648, 1.2802734, 1.5410156, -0.25463867, 1.3457031, 0.94091797, -0.45385742, 1.6337891, -0.3869629, 2.7734375, 1.3212891, 0.20812988, -0.47631836, 0.49609375, -1.1630859, 1.0498047, -0.38305664, -0.2783203, -1.3662109, -0.18701172, 1.6875, 0.7060547, 1.2011719, -1.4365234, 0.13757324, 0.85791016, 0.20324707, 0.12536621, -0.29541016, 2.5664062, -2.1757812, 0.29541016, 3.1191406, 0.29541016, 0.005836487, -2.7890625, 1.0839844, 0.67089844, 0.28442383, -0.6772461, -2.203125, -1.2333984, 1.1064453, 1.0615234, 0.6020508, 1.2490234, 2.3222656, 0.4572754, -0.84716797, -4.125, -2.9921875, -0.08392334, -0.2763672, -0.1586914, -0.9658203, -1.4384766, 2.7636719, 1.6757812, -1.8916016, -0.6816406, -1.3544922, -1.2753906, -3.0253906, 2.4785156, 1.1728516, 0.03955078, -0.08746338, -0.20422363, 0.037475586, -0.5332031, -1.5058594, 2.4453125, -1.9052734, -3.875, -1.3085938, 1.3486328, 0.44702148, 1.5166016, 2.8828125, 1.6337891, -2.7949219, 5.4101562, -1.8183594, -1.0166016, 0.18078613, -1.4345703, -0.9370117, -2.4609375, -1.171875, 1.4931641, -2.7734375, 1.0683594, 0.24523926, 2.9433594, 0.5366211, 2.9882812, -1.2724609, -0.46118164, -0.7607422, -0.7314453, -1.6787109, 1.3115234, 1.9003906, -2.2636719, 0.3557129, -0.69189453, -0.8676758, -0.04727173, 0.89501953, -0.3798828, -0.61376953, 1.4208984, 2.2207031, 3.5058594, -1.4052734, 0.10821533, -0.2619629, 1.3945312, -1.4970703, -0.074523926, 0.7729492, 0.5859375, 0.60498047, -0.20654297, -0.9560547, -0.9550781, -0.38916016, 0.18933105, 2.5097656, 0.87353516, -0.58691406, -0.75439453, 1.1318359, -1.4716797, 0.1776123, 2.5957031, -1.2167969, -1.9248047, -0.7011719, -0.84228516, -0.24536133, -0.609375, -1.6572266, -0.9433594, 1.0410156, 1.9726562, 1.1416016, -1.3505859, -0.42333984, 1.8964844, -1.9570312, -0.6254883, -2.4316406, 0.80810547, -0.61035156, -0.040008545, -0.5732422, -1.0107422, 2.6230469, -1.2822266, -0.58154297, -1.2539062, 0.7607422, -0.080444336, -0.8198242, 1.3193359, 1.1416016, -0.42211914, 0.14282227, -0.10961914, 1.0751953, -1.1240234, 0.07788086, 1.1630859, 1.2275391, -0.5395508, -2.2421875, 2.1464844, -3.7988281, 0.9614258, -0.6542969, -2.109375, 1.1757812, -0.48266602, -0.17199707, 1.0927734, -1.1982422, 0.6791992, 0.8105469, -1.0849609, 1.6914062, 1.6367188, -0.17907715, 1.2675781, 0.6503906, 1.1591797, -1.6152344, 2.0234375, 3.4628906, 0.7919922, 0.93408203, -0.2705078, 2.0019531, -0.31860352, -1.6318359, 0.69921875, -0.5185547, -0.123291016, 1.4873047, -1.6591797, 0.8496094, 0.7705078, -3.2578125, -1.2333984, -0.13659668, 0.12768555, -0.9550781, -0.052947998, 2.140625, -1.6191406, -0.16101074, 3.5332031, 0.03616333, -0.5126953, -2.0957031, -2.109375, 0.64501953, 1.6630859, -1.0869141, -1.703125, -1.4648438, -1.4912109, 0.8222656, 1.2558594, 0.6816406, -0.31713867, -1.8408203, 1.0195312, 2.3359375, 0.84033203, 0.17858887, -2.0234375, 0.21557617, -0.28295898, 0.08746338, -0.6479492, -0.46020508, -0.6088867, -1.3974609, 0.09429932, -1.4355469, 1.5195312, -0.7392578, -0.9501953, -3.7988281, -1.2724609, -2.1582031, 1.7470703, 0.3239746, 1.5087891, 0.8251953, -1.5615234, -1.5478516, 1.7177734, -0.27246094, -0.40014648, 1.5996094, 1.1757812, -1.0869141, 0.8676758, 0.88134766, -1.0244141, -0.35375977, -1.1259766, -1.6337891, -0.08294678, 0.013557434, -2.4863281, 0.29003906, 0.020858765, -2.3535156, 0.7324219, -1.8066406, -0.7675781, -0.8598633, -1.2099609, 0.038360596, 1.5400391, 1.2851562, -0.02268982, 0.1161499, 0.80322266, -1.5126953, -0.44311523, 1.0634766, -0.5029297, -1.6865234, -0.37597656, -0.88623047, 1.1025391, -2.7480469, -0.5932617, -3.71875, -1.0224609, 0.7597656, 1.4804688, 1.1943359, 2.0332031, 1.7695312, 0.059783936, 3.6621094, -1.2890625, 0.43969727, -0.71533203, -3.8378906, 1.3330078, -0.8730469, -0.2915039, -0.96240234, 2.4648438, -0.07232666, -1.3144531, -0.38671875, 0.4638672, -2.0527344, 0.011383057, -1.1669922, -1.5009766, -3, -0.7373047, -0.8588867, -1.9335938, -1.2792969, -0.24926758, -3.1992188, -0.90625, 1.0048828, 1.7431641, 0.096069336, 0.9995117, 2.7324219, -0.28100586, -0.5332031, -0.33496094, 0.16040039, 0.8125, 1.0556641, -1.2509766, -0.90185547, 0.16381836, -2.0273438, 0.79248047, 2.9628906, -1.9960938, 0.12548828, 0.9033203, -1.0302734, -1.1806641, -0.70166016, -0.21203613, 0.21643066, 0.22692871, -0.009162903, 0.7480469, 1.8427734, -0.4091797, 0.5410156, 0.2244873, -0.9296875, -3.53125, 0.17834473, 0.14086914, 0.48608398, -0.18017578, -0.67822266, 0.4033203, 0.8286133, -2.2636719, -0.5727539, 0.50341797, -1.046875, -1.6396484, 0.3955078, 0.9345703, -1.1708984, 1.4453125, -0.05734253, 1.0380859, 0.28955078, 0.30371094, 0.5966797, -1.0146484, 0.75927734, -0.61083984, -0.9160156, -2.1132812, -0.45629883, -3.0019531, -1.3583984, -1.8662109, -6.8710938, 6.1484375, -1.7695312, -1.9248047, 1.3095703, -0.21240234, -0.7480469, -0.42333984, -0.5800781, -1.6445312, 3.7949219, 2.7773438, 0.54248047, 0.92626953, -1.6279297, -2.0605469, 0.93115234, 2.6796875, -0.3623047, 0.27734375, -2.0703125, -0.19140625, 4.421875, -2.4882812, -1.9804688, 1.0605469, 0.3317871, -1.0341797, -1.5009766, -0.6484375, -0.26782227, 2.6738281, 2.0683594, -2.6757812, -1.6474609, 1.5498047, -0.9111328, 0.14709473, -0.13256836, 0.32055664, 1.8935547, -2.4121094, -0.93310547, -0.703125, -1.8222656, -1.9755859, -0.5957031, 0.73876953, -1.8125, 4.4101562, -0.97216797, -0.56884766, -0.16821289, -0.82958984, 0.53759766, 1.3662109, -1.0244141, 0.44506836, 1.5253906, 1.0146484, -0.03805542, -0.6166992, -1.0380859, 4.8554688, 0.58984375, -0.8623047, 2.6230469, 0.12805176, 2.7480469, 1.7851562, -0.29589844, -1.1240234, 0.1517334, 0.80908203, 0.38354492, 0.9794922, 1.2451172, -3.6054688, -0.83154297, 1.125, -0.61621094, 0.6894531, -2.6484375, 0.69873047, 0.47827148, 1.0322266, 3.0625, -1.5244141, -1.1210938, 1.0166016, -0.46240234, -0.3935547, -0.044555664, -1.0976562, 0.4711914, -0.7348633, 0.08648682, 0.6645508, -2.1914062, 0.09057617, 0.9770508, -0.60595703, 0.38842773, -3.1679688, 0.32495117, 0.08795166, -0.8720703, -2.6582031, -0.56640625, -0.9794922, 1.8691406, 0.2775879, 0.8613281, -1.7646484, 0.09564209, 0.58691406, 1.0332031, 1.5322266, -1.7089844, 0.875, -0.2084961, 1.5068359, 1.7148438, 1.2050781, 3.2480469, -1.1494141, -0.7895508, -2.1796875, 2.0019531, 0.765625, -0.44555664, -0.4333496, 0.35717773, -0.7084961, -1.9277344, -1.15625, -0.1104126, 1.9746094, 1.7539062, 0.2286377, 0.1550293, 0.8730469, -2.0429688, 0.5151367, -0.30688477, -1.4599609, 0.85498047, 1.6835938, 2.0214844, -3.6269531, 1.5869141, 0.11602783, -0.5810547, -0.7753906, 0.94970703, 1.0390625, 1.046875, -0.41333008, -1.0371094, 0.6645508, 0.03741455, -0.38598633, 0.6147461, 1.4248047, -0.5957031, -0.93408203, 0.1854248, -1.6992188, 0.8769531, 0.25708008, 0.21142578, 0.12976074, 0.15515137, -0.75146484, -1.3916016, -0.99853516, 0.18103027, -0.057647705, -0.4741211, -0.3701172, -2.3828125, -1.0429688, -2.1894531, -1.2294922, -2.8574219, -0.21362305, 1.4326172, 0.7705078, 0.68603516, -0.6347656, -0.8510742, 1.5556641, 0.7451172, 1.2089844, -0.22924805, -1.2773438, 1.1240234, -0.89697266, -0.10992432, 1.6845703, -0.15966797, 0.17236328, -0.1262207, 0.54248047, -1.6376953, -0.6489258, 1.4902344, 0.07122803, -0.13549805, -0.039154053, -0.9404297, 0.027053833, -0.8466797, -1.3447266, -2.8125, -4.3476562, -0.3310547, 0.58984375, -0.04244995, 2.6386719, -1.5146484, -0.2631836, 1.3271484, 0.5419922, -0.0044174194, 1.1318359, -1.890625, 1.6054688, 2.4589844, 0.7080078, 1.0292969, -2.6269531, -0.6230469, -1.1962891, 0.8232422, 2.5273438, 0.3251953, 3.9179688, -2.0019531, -1.7822266, -0.05105591, 1.7998047, 0.5698242, -0.9902344, 0.47436523, 1.4941406, -1.6240234, -0.18518066, -1.0615234, -0.90625, -0.71972656, 0.6064453, 1.7880859, -0.48510742, 0.30078125, 0.10638428, -1.1601562, -1.4306641, -1.9462891, -0.5546875, -0.72314453, -0.12347412, -1.4277344, 0.2607422, 0.5522461, -0.54785156, 0.22375488, -0.36401367, 0.4555664, -0.4008789, -0.92529297, 1.1367188, -0.39086914, 0.6928711, -0.120910645, -1.078125, 0.8701172, 1.5029297, 0.88916016, 0.5830078, 1.7128906, -1.9003906, 0.076049805, -1.1367188, 1.9677734, -1.0029297, 0.6010742, -0.39526367, -1.640625, -1.0166016, 1.3378906, 2.3261719, -0.089416504, -1.3583984, 1.2646484, -3.1679688, 3.2265625, -0.10491943, 0.43823242, 0.59814453, 0.13024902, -1.1591797, 1.2041016, 0.9560547, -1.5693359, -0.23010254, 0.60595703, -1.4082031, -0.09674072, 1.3369141, -0.72509766, -0.65185547, 0.9375, 0.99560547, -1.4833984, 0.5498047, -1.203125, -1.8935547, -0.048950195, 1.5566406, -3.4082031, -0.51123047, 0.9140625, 1.3505859, 1.7910156, -0.10333252, -1.9785156, 3.2675781, -2.1425781, 1.2060547, -0.90625, 1.90625, 0.86279297, 0.5800781, -0.1439209, 0.39941406, 0.9423828, -0.77978516, 0.19909668, 0.1809082, -2.1523438, -0.71875, -1.8867188, -0.18786621, 0.37036133, 2.0078125, 0.13684082, 0.49902344, -0.23034668, -1.328125, 1.4277344, -1.8632812, -2.1289062, 2.2636719, 0.8232422, -0.80810547, -0.6279297, 1.9931641, 1.4785156, 1.5166016, -0.6411133, 0.5722656, -1.3876953, 0.22546387, -3.6425781, -0.10882568, -1.4443359, -0.2775879, -2.3945312, 0.21557617, 0.37109375, 1.0634766, -1.9316406, -0.4560547, -0.7260742, -1.3554688, -2.2050781, 1.2587891, 1.015625, 1.1601562, -2.5625, -1.3662109, -0.35375977, 0.4169922, -1.0195312, -0.7714844, -0.9082031, 0.6176758, 2.0917969, 0.49853516, 0.5029297, 1.4287109, 0.42895508, -0.27807617, 2.1015625, 0.4111328, -1.3447266, -1.6445312, 0.16418457, 1.3818359, -2.1347656, 2.0800781, -1.3320312, 0.62353516, -0.7705078, -1.4931641, 0.21020508, 1.4746094, 0.5629883, -0.9638672, -3.1992188, 1.5771484, -1.5273438, -1.2158203, 0.8251953, -1.3583984, -0.043304443, -0.7988281, -0.68310547, 0.11401367, 0.91259766, 1.5214844, -1.9443359, -2.5234375, 1.578125, 1.5771484, 0.31835938, 2.8730469, -1.1767578, 3.0429688, 0.5229492, 1.8945312, 0.14416504, -0.7036133, 0.15930176, -1.0625, -0.31811523, -0.80029297, 0.1817627, 0.34423828, -2.8574219, -0.26245117, 0.035614014, 1.75, -0.3984375, 2.453125, 2.0410156, 1.1367188, -1.5712891, 0.33496094, 0.049591064, 0.5761719, -2.0039062, -0.25317383, 1.5429688, 1.375, 0.30639648, 2.8671875, 0.7114258, 1.9003906, -0.08441162, -1.6396484, 1.8398438, 0.03652954, 0.36401367, 0.9511719, 1.1582031, -3.1015625, -0.6879883, -1.4628906, -2.0136719, 0.60595703, 0.39990234, -0.06439209, 1.2626953, -1.2519531, -0.44433594, -0.47583008, -1.6308594, 0.3083496, 0.13134766, 1.28125, 0.2097168, -0.1538086, -0.47827148, 1.2255859, -0.89990234, -0.45922852, 0.9370117, 0.7006836, 1.4306641, -0.28295898, 0.036834717, -1.6533203, -2.1074219, -1.1044922, 0.73779297, -0.68896484, -1.3085938, 0.9121094, -3.4316406, -0.12609863, 2.6679688, -0.74560547, -2.5703125, -0.3720703, -2.6582031, -0.60839844, -0.33447266, 0.765625, 0.032348633, -1.0820312, 0.50341797, -0.03253174, 0.8466797, -1.3085938, 0.29370117, 1.8789062, 0.50634766, 0.8046875, 2.2832031, 1.8154297, 1.9501953, 0.22619629, 0.74560547, -2.1855469, 1.8740234, 0.5625, -2.3125, 1.4492188, 1.3037109, 1.6025391, 0.75439453, -1.1357422, -2.2324219, 0.4248047, -0.5859375, -1.3476562, -0.7114258, 0.6977539, -0.60253906, 1.3740234, -0.9433594, -1.9404297, 0.8520508, -0.7558594, 0.16955566, -0.2052002, -0.1171875, -1.1640625, 1.8476562, -0.7939453, -0.19836426, 1.0751953, -1.1572266, -2.0722656, 1.0556641, -0.3947754, 0.34594727, -0.21520996, -1.234375, 1.1621094, 1.8320312, 0.9926758, -0.2770996, 2.3828125, -1.5009766, 0.30126953, 1.7099609, 1.2724609, 1.4472656, 0.22192383, 0.033294678, 1.8554688, -0.48046875, -0.8046875, 1.0214844, 0.26538086, -2.6289062, -0.37475586, 0.73779297, -0.01260376, 0.40649414, 1.8837891, -0.6479492, -0.8911133, 1.2958984, -0.15722656, 0.8203125, -0.1282959, -1.125, 1.3193359, 0.20825195, -0.7919922, 0.6166992, -1.1689453, 0.8486328, -0.10864258, -0.4802246, -0.47729492, -0.89404297, -0.7182617, -0.36694336, -0.7636719, -0.73583984, 2.34375, 1.2460938, 0.33081055, -1.9003906, -1.1083984, -0.0927124, -0.06124878, -1.5898438, 1.3261719, -0.5336914, -1.1669922, -1.8164062, 0.33911133, 4.328125, 0.6582031, 1.25, -0.15637207, -0.6645508, -0.77978516, 0.6376953, -0.6040039, -0.5410156, -0.6303711, 3.1445312, 0.047576904, 1.8339844, -1.0351562, -0.091796875, 3, -3.4082031, -0.63427734, -1.4033203, 0.8251953, 0.4958496, -0.8935547, -0.59033203, 0.17272949, 2.1386719, 0.93603516, 1.2714844, 1.9619141, -1.4628906, -0.18737793, 0.25024414, 1.8291016, -4.1445312, -1.1425781, -2.1796875, 1.3925781, 1.5527344, -0.08227539, 0.30444336, -0.8535156, 1.6191406, -0.1463623, -0.6791992, 3.2734375, 1.1005859, 2.515625, 0.2763672, 1.8662109, -1.2333984, 0.90185547, -0.10784912, -1.0742188, 1.6474609, -0.45532227, 1.7939453, 1.2167969, -2.0800781, -0.43603516, -0.19384766, -0.90283203, -1.4013672, -0.99560547, -2.7363281, -0.1048584, -0.07800293, -2.1953125, -0.96533203, 0.17773438, -0.59472656, -0.96240234, 2.8730469, 0.060821533, 0.66259766, 1.0371094, -0.28564453, 2.0449219, 0.08099365, -0.72216797, 3.1679688, 1.078125, 0.78271484, -0.8911133, 0.18713379, -2.9042969, 0.23779297, 1.1650391, 1.4541016, 0.04815674, 1.578125, 0.07733154, -2.5722656, -2.2597656, 1.1962891, 0.8286133, 0.90771484, -0.2890625, -0.09088135, -0.890625, -1.3691406, 2.0917969, 0.1303711, 1.6445312, 1.4902344, 0.1751709, 1.0849609, -0.8095703, 0.50634766, 1.0039062, 1.6845703, 1.6005859, -1.4179688, -1.8056641, -0.7973633, 1.8867188, 2.0078125, 0.4243164, 1.1904297, 0.9316406, 1.46875, 0.6582031, 1.1757812, -0.8798828, -1.1357422, 0.34985352, -1.4726562, 0.59033203, 0.4494629, -0.984375, -1.3154297, -2.2871094, 2.9511719, -0.58496094, -0.3244629, 0.5966797, 2.5273438, 2.4179688, -1.0273438, -2.9824219, 2.2109375, -1.6162109, 1.9697266, -1.2539062, 0.8208008, 0.70214844, 0.14074707, -0.74365234, 0.9213867, -0.5576172, -0.029647827, 0.77783203, 1.1914062, -0.53515625, -0.9785156, -0.2854004, 2.0234375, -0.4716797, -0.15112305, 0.18408203, -1.8251953, 0.38500977, 1.9804688, -1.0966797, -1.7382812, -1.0527344, -1.1181641, -0.56689453, 0.6982422, -0.7441406, 4.0039062, -4.3632812, 0.45336914, 0.89404297, -1.4023438, 1.6132812, -1.4804688, -1.109375, 1.1132812, 0.6879883, 1.375, -1.9501953, 0.009185791, -1.6103516, 1.578125, -0.49682617, 3.15625, -1.5273438, -4.0390625, -2.2773438, 2.1445312, -1.0947266, -0.19519043, -1.0585938, 1.4560547, -1.9306641, 3.8984375, 0.3930664, -1.5224609, -1.7753906, -0.19604492, -0.009788513, -0.640625, 0.51464844, 1.7001953, 0.44848633, 0.9951172, -3.5859375, 0.7651367, -0.14343262, 1.5869141, -0.26464844, -0.9770508, -0.7348633, -2.5253906, 0.7578125, 0.57958984, 1.2412109, 1.7958984, 0.93310547, 0.08306885, 1.5429688, 0.9511719, 0.07531738, 2.046875, -0.44995117, 0.68652344, -1.2880859, 1.7216797, 0.47583008, 0.27490234, -0.7128906, -0.40161133, 1.8154297, -0.9042969, -2.5957031, 0.5078125, -1.5634766, -0.33862305, 1.8222656, -1.0302734, -0.101379395, -0.9316406, -0.2052002, 0.7939453, -1.6474609, -2.3828125, 0.032348633, 0.8466797, 0.114868164, 0.36157227, 1.7470703, -3.0742188, -0.6640625, 0.015426636, 2.2636719, 2.1484375, 0.20751953, 1.2392578, 0.2487793, 1.5996094, -0.8354492, -3.28125, -0.27392578, -0.9145508, 0.72558594, 0.09173584, -1.0878906, -0.0060577393, 1.3398438, 1.8320312, 0.12792969, -0.68603516, 0.17175293, 0.09631348, 2.8769531, 1.2587891, 1.0507812, -0.3479004, 0.6586914, 2.4257812, -1.9697266, 0.13293457, 2.4863281, -1.1943359, 1.9560547, 2.2636719, -0.41625977, -0.17956543, -0.12683105, 0.4333496, 2.3164062, 1.9648438, -0.014823914, 1.2646484, -2.2890625, 1.0703125, 1.7412109, 0.23132324, 0.6098633, -0.71728516, -0.734375, 0.6713867, -2.7402344, -2.4765625, 0.92041016, -0.1315918, -1.3535156, 0.48657227, -1.6806641, -3.5429688, 4.078125, -2.359375, 1.2158203, -0.23937988, 0.12322998, -1.28125, 0.17114258, 0.94091797, 1.9150391, 0.5629883, -1.0244141, 0.43041992, -1.2851562, -0.63916016, 0.5878906, 0.6376953, 0.6665039, -1.3300781, 1.1728516, -1.8662109, -2.9824219, -0.7841797, -0.49291992, -3.9179688, -1.4746094, 0.25463867, -0.083984375, -0.61279297, 1.7099609, 2.1367188, -1.0791016, -0.73095703, -2.4863281, -1.1357422, -0.9667969, 2.9511719, 0.27514648, 0.7705078, -5.546875, 1.0302734, -2.1855469, -0.20458984, 0.62939453, -0.10467529, 1.4492188, 1.0595703, 0.17907715, -2.1308594, -1.1357422, -1.65625, -0.4724121, -0.7314453, -0.3251953, 0.8222656, -0.4477539, -0.234375, 2.2851562, 0.8989258, 0.0231781, 0.6245117, 0.8676758, 0.40771484, -0.24365234, 1.6210938, 0.63427734, 2.2636719, 0.4658203, -0.19689941, 0.23120117, -4.3242188, 1.2978516, 1.4677734, -1.7431641, -1.5244141, 1.2382812, -0.44140625, 1.4677734, 0.37109375, 0.9863281, 1.25, 0.9760742, -0.31933594, -3.1308594, -0.28808594, 2.5859375, -0.22033691, -0.10015869, 0.9472656, 1.5878906, -1.7626953, -0.4897461, -0.94384766, -2, 2.0390625, -1.1943359, 1.671875, 1.6845703, 2.03125, 2.8046875, -0.4272461, 0.35498047, 0.2800293, -1.4589844, 2.40625, 1.7568359, -0.97216797, 0.4091797, -0.2355957, 0.48828125, 0.07727051, 1.4716797, -1.7382812, 0.5473633, -0.57958984, 1.3037109, 1.0634766, 2.2890625, -2.2558594, -0.0871582, 2.9355469, -1.7939453, 1.1884766, -0.39941406, -1.5087891, -0.66259766, 0.52685547, -0.19128418, 1.6533203, 0.96728516, -1.8564453, -2.0957031, 0.31591797, -1.3037109, 0.80322266, -0.8442383, -2.1230469, -0.016113281, 0.4921875, -0.36889648, 0.61865234, 0.5283203, -0.29296875, -0.1508789, -1.0830078, -0.14831543, 1.1845703, -1.8427734, 0.7597656, 0.49243164, -2.0859375, -0.28930664, -0.043945312, -1.4072266, -2.0019531, 0.39868164, 1.9287109, 2.0527344, -0.83154297, 0.08734131, -0.59228516, -0.828125, 0.056121826, 0.5371094, 1.53125, 0.8417969, -1.4316406, 0.45922852, 0.9658203, -0.9682617, 2.0644531, -0.7661133, 0.101745605, 1.5097656, 1.2314453, -0.66748047, 3.2070312, -1.6865234, 1.453125, 0.9692383, -1.1728516, 0.30541992, -2.1972656, -1.5224609, -0.8989258, 0.9189453, -3.0429688, 1.9492188, -0.24414062, 0.06665039, -0.859375, -1.7597656, 1.5087891, 0.36743164, -0.7402344, 2.5859375, 2.3691406, -0.32104492, 1.1884766, -0.7158203, 0.67578125, 1.3164062, 0.20947266, -0.70751953, -1.0029297, 1.2119141, 2.4296875, 2.1699219, 1.5, 0.15527344, 0.12695312, -0.5449219, -1.8320312, -0.9736328, -1.8662109, -1.1289062, 0.7636719, 0.5527344, -0.99072266, 0.27368164, -1.0449219, -1.2666016, -1.7666016, 1.3095703, -2.0839844, 2.2675781, 0.3955078, -3.1894531, 1.2226562, 2.2929688, 2.0898438, -0.45336914, 1.4941406, 0.10192871, -3.8632812, -2.1621094, -0.6826172, 0.88720703, 1.7744141, 1.5693359, -0.49536133, -0.078308105, 1.9785156, 2.0019531, 0.4633789, 1.0126953, 0.13134766, -2.1855469, -2.2558594, 0.6748047, -1.7880859, -1.1621094, -4.6523438, 0.93603516, 1.171875, -0.37280273, -0.073791504, 0.75, 0.23388672, 0.27490234, 0.14257812, -1.8564453, 0.67333984, -0.46118164, -1.2431641, -2.5566406, 0.60498047, -1.0927734, 0.4658203, -0.111694336, -0.08557129, -0.61328125, 0.43139648, -1.5683594, 1.3837891, 0.18115234, 0.08532715, -0.70751953, 1.65625, -1.5615234, 1.0253906, -0.54248047, 0.7910156, 2.7480469, 1.4101562, -0.15771484, -2.8339844, 0.6542969, -3.0390625, -0.38427734, 2.046875, -0.79833984, 1.4853516, -0.7192383, -0.8510742, -0.017684937, -0.65722656, -1.4746094, -1.8564453, 0.26708984, -2.2734375, -0.3605957, -2.59375, 0.20397949, -3.15625, 0.93115234, 2.078125, -1.0449219, 2.5722656, 2.5410156, -0.4807129, 0.62402344, 1.3740234, 0.7050781, 2.0585938, 0.053833008, 1.4541016, 0.09399414, -1.0771484, -1.1484375, 0.48828125, -0.40649414, -3.1757812, -0.4506836, -1.0507812, 0.5253906, 0.70947266, -0.37963867, 2.2617188, -2.3476562, -1.2333984, -1.5322266, -0.16601562, -1.0966797, 1.2412109, 2.0175781, -0.089904785, -0.40307617, -0.8769531, -0.19970703, -2.8496094, 1.8056641, -1.8349609, -0.4345703, 2.3789062, 0.14343262, 0.3725586, 0.7348633, -3.375, -0.5776367, -0.23791504, -2.2988281, 1.7226562, -2.2226562, -3.1328125, -0.97802734, 3.0234375, 2.2792969, 0.007724762, 0.6455078, 4.6914062, 0.8535156, 0.3552246, 1.7099609, -0.0050239563, -0.9560547, 1.7460938, 0.39990234, 0.55371094, 3.0996094, 1.6396484, 1.8496094, 0.64208984, -1.0380859, 2.2675781, -0.022903442, -2.0761719, -0.37109375, 1.7275391, 0.6879883, 2.6855469, 0.57958984, -1.7773438, 1.1025391, -0.6123047, -0.19348145, 1.3525391, -0.5605469, 1.5439453, 2.1328125, -1.6396484, 0.9716797, 2.4160156, 0.46728516, 2.265625, -0.87158203, -0.19604492, -0.3310547, -0.27368164, 0.5371094, -0.6689453, -1.4560547, 0.4963379, -1.0400391, -0.8066406, -1.0537109, -0.84375, -1.5410156, 1.0019531, 1.6787109, -0.36743164, 0.63623047, -0.67626953, -1.2089844, -1.7177734, -1.6191406, 0.8408203, -1.4902344, -0.49829102, 0.21240234, -1.0117188, -0.17797852, 0.0053253174, 0.12695312, 1.1611328, 2.2734375, -1.0664062, 0.1965332, 1.5498047, 0.859375, -0.21484375, 0.24963379, 0.47094727, 3.3457031, -0.9760742, 0.14807129, 0.80126953, 0.95751953, 0.20239258, -2.7167969, 1.9091797, -1.3007812, 1.0683594, -0.66259766, 0.09436035, 0.6777344, -0.9765625, -0.6245117, -0.32055664, 0.83154297, 0.35302734, 1.1572266, 1.78125, 2.3691406, -2.2832031, 1.7060547, 0.6665039, 1.4726562, 1.5341797, 0.107788086, -1.0810547, 0.171875, 1.0751953, -2.9082031, 3.0566406, 1.9804688, 0.3857422, 0.1899414, -0.59472656, 0.8691406, 2.1152344, -0.62158203, 1.0869141, -0.032684326, -1.4257812, 0.71240234, 0.83740234, 0.5703125, -2.1132812, -0.7573242, 1.5693359, 0.484375, -3.4550781, -0.25024414, 0.118896484, -2.0292969, -0.7363281, 2.3007812, -0.11328125, -0.06640625, -2.0039062, -1.6630859, -0.10638428, 0.09899902, 2.0390625, -0.9003906, -0.9169922, -1.7314453, -0.609375, -0.45166016, 0.7089844, -0.2084961, 2.2324219, 0.3852539, 0.5239258, 0.5600586, -0.91064453, -1.3095703, 2.5898438, 2.078125, -1.7158203, 0.057159424, -4.5664062, -0.6870117, 1.2958984, 1.1699219, -1.7070312, -1.5595703, -1.4492188, -0.42260742, 0.6904297, 3.1171875, -0.9423828, 0.33691406, 0.6977539, 0.89990234, -3.5996094, 0.6870117, -0.17980957, 1.9433594, 0.16809082, 1.0117188, 0.5078125, 0.62060547, -1.2041016, 1.25, -0.51464844, 1.4160156, -2.2988281, -1.8632812, -1.3359375, 1.6679688, -0.1496582, -0.9375, -0.8208008, -3.3300781, -0.68310547, -0.8051758, 1.6757812, 0.83935547, -0.6098633, 1.4775391, -0.67871094, -2.9550781, 0.13317871, 2.3144531, -0.40454102, 2.4160156, -1.0976562, -7, -0.7661133, 1.3203125, -0.3791504, 2.8632812, 1.5908203, 1.2041016, -1.8603516, 1.6279297, -0.49194336, -0.57958984, -0.9838867, 1.5595703, 0.5371094, 2.8417969, 1.2158203, -0.31201172, -0.21984863, -0.9614258, -2, -0.61279297, 2.1171875, -0.00017750263, -0.39990234, 1.6025391, 1.5, -0.5473633, 3.4316406, -0.8989258, 1.0800781, 1.5087891, 0.15771484, -1.3222656, 0.9926758, -0.9003906, -0.14868164, -0.028564453, 0.43530273, 0.11694336, 0.71875, 0.77197266, 1.7333984, -1.6875, 0.30688477, 0.029937744, -0.19067383, 0.103271484, -0.61328125, 1.7617188, 1.0517578, -0.49194336, 0.42016602, 1.5966797, -2.0917969, -0.37402344, 1.5996094, -0.6455078, -0.60595703, -0.57373047, 0.99853516, -1.1816406, -0.4272461, -0.29785156, -0.9003906, 0.2775879, -1.0751953, 1.2080078, 1.46875, -3.0195312, 0.24060059, -0.7470703, -0.3479004, -1.140625, -3.7636719, -0.9794922, -1.1669922, -1.1064453, 0.9189453, -8.3828125, -1.8564453, -0.38134766, -0.29760742, 0.24499512, -1.2431641, 0.26293945, -1.1884766, -1.1601562, 0.15356445, 0.5942383, 0.28515625, -0.40625, -1.328125, -0.5522461, -0.8408203, 0.08459473, -0.6645508, -0.15905762, -0.6850586, -4.140625, 2.7636719, -1.6064453, 3.7246094, -1.53125, 0.8588867, -2.6621094, -0.14208984, 0.22058105, -0.06311035, -2.2871094, 1.5029297, 0.14819336, 0.32666016, -1.6933594, 0.7558594, -0.61279297, -1.2822266, 0.6870117, 0.5239258, -1.1210938, -0.9560547, -1.3242188, 1.7089844, -0.29541016, 2.0644531, 1.0712891, -0.4724121, -2.1679688, -1.7099609, 2.9707031, 4.4335938, -2.8261719, -0.11126709, -2.3105469, -0.08453369, -1.4541016, -0.22998047, 0.72314453, 0.33813477, -1.2451172, 1.875, -0.6665039, -0.18933105, 0.6386719, 0.7421875, -1.5537109, -0.3100586, 0.25170898, 0.7739258, 0.76220703, 0.38745117, 0.1739502, 1.2333984, -0.23291016, 1.5810547, -0.14245605, 0.65283203, 1.2822266, -0.9921875, -1.3349609, -0.14587402, 0.8989258, -2.4042969, -0.51660156, -0.09857178, -1.3320312, 0.043762207, 0.8486328, 2.2832031, -2.6015625, 0.21765137, -0.22216797, -2.1875, -0.44702148, -0.044891357, -0.07647705, 0.17749023, -1.640625, 2.34375, 1.1347656, -0.6904297, 0.101379395, -1.4833984, -0.6845703, -1.3085938, 0.61083984, 1.9902344, -1.4296875, -0.46777344, -0.36547852, -0.31982422, -2.8554688, -1.2714844, 0.31982422, -0.4794922, 1.765625, 0.53808594, -0.7783203, -0.013313293, 0.63378906, -1.75, -0.7734375, 0.8769531, 0.3479004, -3.2832031, 1.1669922, 0.24560547, -0.62060547, 2.7011719, 0.6875, -3.3945312, 0.734375, 2.5703125, 0.9770508, -0.8125, 0.23205566, -2.1132812, 1.7490234, 0.5395508, 0.2697754, 1.1318359, -0.11383057, -0.6464844, -2.3105469, 0.64990234, -0.81591797, 0.9453125, -0.61279297, -1.5820312, 0.101379395, 1.0107422, 0.28686523, -0.8876953, 2.4296875, -0.9379883, -1.8554688, -0.109558105, -1.4677734, 1.5693359, -0.95458984, 0.08959961, 0.7011719, -0.6035156, -4.21875, -0.48291016, -0.49780273, -2.8886719, -3.3203125, 0.40771484, 0.00233078, 2.5605469, 0.88427734, -0.42993164, 1.2539062, -1.4628906, -0.09295654, -0.24450684, 1.828125, -1.6552734, 0.7182617, 0.2800293, 1.2011719, 1.2255859, -1.3212891, -1.8535156, 0.875, 1.3027344, -0.24145508, 1.5478516, -0.7685547, -1.7753906, -1.9101562, 2.8359375, -1.3056641, 1.8691406, 1.1230469, 0.9951172, -2.2265625, 0.37817383, -1.2822266, -1.0810547, -0.13269043, 0.32128906, 1.859375, 3.7050781, 1.6464844, 0.60498047, 3.5019531, 2.7304688, -0.8676758, 1.2617188, 1.9306641, -1.3359375, 0.46850586, -0.01411438, -1.1708984, -1.1054688, -0.37670898, -0.42822266, -0.41235352, 0.8515625, 1.9628906, -0.9609375, 1.8759766, -1.3085938, -0.4416504, 1.4179688, -1.8652344, 1.0869141, 2.0605469, 1.0244141, -0.97802734, -0.31933594, -0.60595703, 3.7050781, 0.33154297, 0.89404297, 1.0791016, 0.51416016, 1.5654297, -0.9682617, -0.119384766, 1.2275391, -1.4775391, -0.7109375, -2.4238281, 2.2480469, -0.21679688, 1.0322266, 0.47802734, 1.4716797, -3.4355469, -1.7353516, 1.0859375, 0.65625, 0.51660156, -1.2695312, 1.9052734, 1.1904297, -0.048858643, -0.4477539, -1.3271484, 0.2244873, -1.6220703, 0.5, 0.62060547, 0.19616699, 0.6308594, 0.65527344, 3.0390625, -1.2949219, -0.101745605, -1.8242188, 1.9882812, 0.07891846, 0.66503906, 0.33203125, 0.8701172, 1.5039062, 0.4741211, -0.3203125, 0.41186523, -0.5629883, -0.21179199, -0.2590332, 0.51904297, 1, 0.97216797, -0.72265625, 2.7597656, -0.9291992, -0.7011719, -1.28125, -2, -2.3046875, 1.7900391, 1.5947266, -0.60253906, -0.38134766, -1.8007812, -1.5283203, 1.140625, -1.1269531, -1.3232422, 1.2900391, -0.75439453, 1.3427734, -2.2382812, 1.9335938, 1.3486328, -1.2841797, -0.6699219, -0.7470703, -0.6401367, -1.0791016, -0.14416504, 0.25634766, -0.9140625, 2.3125, 0.7011719, 1.3320312, 1.265625, -2.9628906, -2.1542969, -0.49829102, -0.18676758, 1.4726562, -0.02798462, -1.1787109, 1.0898438, 2.0214844, 2.1054688, 0.055847168, 1.2861328, 1.0244141, 1.6367188, 1.4111328, 0.11187744, -2.109375, -0.04434204, -1.2294922, -3.2617188, -0.5649414, -0.39526367, 1.8564453, 2.3515625, 2.1484375, -0.6098633, 2.8105469, -2.7246094, -2.3046875, 1.6445312, -1.5117188, -0.22924805, -2.2421875, 1.1318359, -1.4023438, -0.20202637, 1.9912109, 1.4814453, 0.87353516, 3.1582031, 1.2509766, -1.0634766, -1.4873047, 0.60595703, 1.1298828, -2.7480469, 1.921875, -2.34375, -0.4099121, -0.13952637, 1.8837891, -0.33764648, -0.25561523, -0.7861328, 0.5449219, -2.1523438, 2.3007812, 1.3486328, 0.29638672, -0.7192383, -2.2265625, 0.8989258, 2.2109375, 1.7841797, -0.20935059, 0.35180664, 0.16149902, -0.53222656, -1.8710938, 0.9921875, 1.8935547, -0.65625, 0.31933594, -1.3408203, -4.2421875, 0.48120117, 1.8681641, 1.796875, -0.95947266, -0.07757568, 1.5068359, 1.3310547, 2.6972656, -0.048919678, -0.00705719, 0.28466797, -0.10876465, 1.140625, 1.1904297, 2.0097656, -1.1582031, 0.06222534, 0.8535156, 0.46166992, 0.97314453, 2.4296875, -0.0340271, -1.2841797, -2.8066406, 0.7260742, -2.1660156, 2.7324219, -0.5175781, -0.9658203, -2.0683594, -0.11810303, 0.89404297, 0.06222534, 0.50878906, 1.3154297, -1.5410156, 0.49853516, -0.1303711, 2.8496094, -0.57373047, -3.1679688, -0.03161621, -0.23254395, 1.4785156, -1.1025391, 0.29077148, 0.9824219, 0.29370117, 1.0585938, -1.484375, -0.1496582, -1.4697266, 1.7773438, -3.4179688, 0.70166016, 0.1850586, -0.0090408325, -0.8198242, -1.0576172, 2.5761719, -1.5625, 1.0048828, 1.3193359, 0.52685547, 1.9755859, 0.4326172, -0.31762695, -0.921875, -1.4326172, 1.6865234, 0.77197266, 0.34179688, 0.30029297, 0.07647705, 0.6489258, 0.18981934, -2.1796875, -0.16235352, -0.8095703, 1.4560547, 1.0839844, -1.9443359, -0.017349243, 0.39916992, 0.36572266, 1.5097656, -0.21484375, 1.7216797, -1.8037109, 2.4355469, -1.0507812, 0.060455322, 0.21166992, 3.7011719, -0.22424316, 0.11932373, 0.3564453, 0.08734131, 0.9604492, -1.5966797, 0.58447266, -1.0820312, 1.1367188, -0.20239258, -1.7617188, 1.2255859, 4.65625, 0.46728516, -0.92626953, 1.2646484, -0.7416992, 0.97216797, 1.9882812, 3.0175781, 0.7597656, 0.0335083, -0.074279785, 0.093933105, 1.6533203, 1.6904297, -0.7470703, 0.1427002, -0.58935547, 0.85498047, 2.75, 3.3945312, 0.7026367, -1.5566406, 0.7480469, 1.9091797, 1.5947266, 0.1661377, 0.6323242, 0.24182129, 2.5078125, -2.9550781, 1.1933594, 1.4677734, 1.9833984, 1.6367188, -0.77490234, 1.5498047, -0.80908203, 1.0126953, 2.0917969, -0.49145508, -0.18664551, 1.1210938, 0.53808594, -0.15930176, -0.09625244, 0.18005371, -1.3691406, -0.09283447, 0.5083008, -0.7675781, 2.2304688, 1.4150391, -0.16271973, 1.59375, 0.5317383, -0.087524414, -0.19714355, -0.6958008, -0.4333496, -1.6220703, -0.15185547, 0.24523926, 1.5976562, 0.97021484, 0.9448242, -3.7519531, -1.3916016, 0.06304932, -2.3144531, -4.5195312, -1.1728516, 0.6401367, -1.90625, -1.8632812, -0.6166992, 1.5537109, 0.6254883, -2.3691406, -0.16748047, 2.1816406, 0.51416016, -1.5146484, 2.0957031, 0.79345703, 1.2880859, -0.9121094, -0.9091797, -1.1787109, 0.21960449, 0.63720703, -1.0332031, -1.3554688, 0.5175781, 0.3317871, 2.7304688, 2.1992188, 0.12841797, 1.3076172, -0.101989746, -1.765625, -2.4101562, -2.9433594, -1.4775391, -0.08258057, -1.7617188, 1.9257812, -2.0175781, -1.6445312, 2.0273438, 1.0898438, 0.14733887, -2.765625, 0.4711914, 0.5332031, -0.73876953, 0.66064453, -1.6650391, -0.43652344, 1.0791016, -0.4260254, 0.7661133, 0.7363281, 0.049621582, 1.1660156, -1.4814453, -1.5771484, 0.6894531, 1.8935547, 0.054229736, -4.2070312, -2.6328125, 0.6123047, 0.1953125, -1.6191406, 1.4130859, 0.4580078, -0.91259766, -0.105285645, -0.40478516, -0.3479004, 1.7275391, -1.65625, -3.0859375, 2.5605469, -1.8134766, -0.18103027, -1.0253906, -2.1132812, 0.41967773, -1.2900391, -1.1435547, -1.7783203, 1.2177734, -0.4255371, 0.46801758, -0.9213867, 0.22802734, 0.17993164, -1.7216797, 2.9453125, -0.24841309, -0.8251953, 0.27490234, -0.95751953, 0.98779297, 0.4375, 0.43896484, -2.4804688, 2.25, -0.2770996, 0.51123047, -0.9448242, 2.5136719, 1.8339844, 1.1171875, -0.671875, -0.039886475, 0.8378906, -1.2617188, -0.9736328, -0.27954102, 2.4140625, 1.0634766, -0.9863281, 1.0869141, 0.13977051, 0.78564453]]\n"
          ]
        }
      ]
    },
    {
      "cell_type": "code",
      "source": [
        "response.embeddings[0]"
      ],
      "metadata": {
        "colab": {
          "base_uri": "https://localhost:8080/"
        },
        "id": "kd6veC9V1m7k",
        "outputId": "b5012ba0-f43e-4123-8203-c5997df72c89"
      },
      "execution_count": 41,
      "outputs": [
        {
          "output_type": "execute_result",
          "data": {
            "text/plain": [
              "[0.5253906,\n",
              " -0.5864258,\n",
              " -1.0371094,\n",
              " 0.3317871,\n",
              " -0.34033203,\n",
              " -1.4882812,\n",
              " -0.16992188,\n",
              " -0.5136719,\n",
              " 0.014694214,\n",
              " -1.7666016,\n",
              " 0.6308594,\n",
              " 2.4121094,\n",
              " -0.31469727,\n",
              " 0.7949219,\n",
              " 0.7841797,\n",
              " 1.6962891,\n",
              " -1.40625,\n",
              " 0.5703125,\n",
              " -1.4228516,\n",
              " -0.8676758,\n",
              " -2.3789062,\n",
              " 0.57373047,\n",
              " 2.2226562,\n",
              " -0.77685547,\n",
              " -2.0800781,\n",
              " -3.3945312,\n",
              " -1.8583984,\n",
              " 2.1230469,\n",
              " -1.0585938,\n",
              " -0.9560547,\n",
              " -0.2783203,\n",
              " 0.07720947,\n",
              " -1.2744141,\n",
              " 0.20983887,\n",
              " 1.2333984,\n",
              " 1.3017578,\n",
              " 0.68310547,\n",
              " 0.66845703,\n",
              " -1.0625,\n",
              " 1.5878906,\n",
              " 2.5292969,\n",
              " -1.5839844,\n",
              " 0.6557617,\n",
              " -0.24572754,\n",
              " -1.2363281,\n",
              " 2.5136719,\n",
              " 0.06890869,\n",
              " -2.8203125,\n",
              " -1.4599609,\n",
              " 1.0244141,\n",
              " 1.8251953,\n",
              " 0.6269531,\n",
              " 0.38452148,\n",
              " -1.0830078,\n",
              " 2.5195312,\n",
              " -0.6503906,\n",
              " 1.4443359,\n",
              " -0.5317383,\n",
              " -2.7578125,\n",
              " -0.30126953,\n",
              " -0.6542969,\n",
              " -0.7675781,\n",
              " 0.04647827,\n",
              " -1.0566406,\n",
              " -0.0010433197,\n",
              " 1.1533203,\n",
              " -0.32885742,\n",
              " -0.53466797,\n",
              " -0.06719971,\n",
              " 1.640625,\n",
              " -0.2734375,\n",
              " 2.0546875,\n",
              " 2.3046875,\n",
              " 0.8925781,\n",
              " 0.66845703,\n",
              " -0.6879883,\n",
              " 2.4296875,\n",
              " -0.8364258,\n",
              " 0.34643555,\n",
              " 2.3203125,\n",
              " 0.17211914,\n",
              " -0.9448242,\n",
              " -1.4902344,\n",
              " 2.28125,\n",
              " -1.0458984,\n",
              " 0.79248047,\n",
              " -0.22692871,\n",
              " 0.5883789,\n",
              " -0.4741211,\n",
              " 1.4335938,\n",
              " -0.062408447,\n",
              " 0.62060547,\n",
              " -2.1210938,\n",
              " -1.2246094,\n",
              " -0.71972656,\n",
              " 0.64697266,\n",
              " 2.6621094,\n",
              " 0.90966797,\n",
              " -0.9794922,\n",
              " -0.2849121,\n",
              " 0.066345215,\n",
              " 2.4707031,\n",
              " -0.2758789,\n",
              " 1.0166016,\n",
              " -1.2939453,\n",
              " -2.1230469,\n",
              " -0.27954102,\n",
              " 0.076293945,\n",
              " 0.46411133,\n",
              " 2.7988281,\n",
              " 0.54541016,\n",
              " -2.6367188,\n",
              " 1.0908203,\n",
              " 0.7241211,\n",
              " -0.032165527,\n",
              " -0.984375,\n",
              " 0.42895508,\n",
              " -0.39038086,\n",
              " 0.092163086,\n",
              " 0.18432617,\n",
              " 0.15075684,\n",
              " -0.39916992,\n",
              " 0.72265625,\n",
              " 1.4570312,\n",
              " 1.2099609,\n",
              " -2.2734375,\n",
              " 0.15808105,\n",
              " 0.122802734,\n",
              " -0.68603516,\n",
              " -1.0371094,\n",
              " -0.88427734,\n",
              " -0.6015625,\n",
              " -0.3786621,\n",
              " -0.15307617,\n",
              " -0.08380127,\n",
              " -0.29638672,\n",
              " 0.18737793,\n",
              " 1.8027344,\n",
              " -0.44628906,\n",
              " -2.3847656,\n",
              " 0.73095703,\n",
              " 1.9052734,\n",
              " -1.4677734,\n",
              " 1.5996094,\n",
              " -0.3005371,\n",
              " 1.7929688,\n",
              " 1.2919922,\n",
              " 0.9863281,\n",
              " 0.52978516,\n",
              " -0.24719238,\n",
              " -1.4853516,\n",
              " -0.9135742,\n",
              " 0.10015869,\n",
              " 2.5742188,\n",
              " 2.0527344,\n",
              " 0.93310547,\n",
              " 0.9941406,\n",
              " 1.0498047,\n",
              " -2.0195312,\n",
              " 2.2128906,\n",
              " 1.2958984,\n",
              " -0.06774902,\n",
              " 0.34692383,\n",
              " 1.4560547,\n",
              " -1.6396484,\n",
              " -0.35107422,\n",
              " 1.1279297,\n",
              " 2.5917969,\n",
              " 0.38427734,\n",
              " -2.6230469,\n",
              " 0.41235352,\n",
              " -0.7416992,\n",
              " 0.4724121,\n",
              " -2.1191406,\n",
              " 0.4567871,\n",
              " 0.46264648,\n",
              " -0.1973877,\n",
              " 0.18310547,\n",
              " -1.7900391,\n",
              " 1.9755859,\n",
              " 0.0395813,\n",
              " 0.22265625,\n",
              " -1.0253906,\n",
              " 1.7412109,\n",
              " -0.3798828,\n",
              " 2.3828125,\n",
              " -0.45288086,\n",
              " -3.2421875,\n",
              " -0.4345703,\n",
              " -1.9902344,\n",
              " 0.3959961,\n",
              " -2.7109375,\n",
              " -0.019104004,\n",
              " -0.18151855,\n",
              " -1.359375,\n",
              " 0.9121094,\n",
              " -1.0732422,\n",
              " -1.5478516,\n",
              " -0.5620117,\n",
              " -0.2133789,\n",
              " 0.51953125,\n",
              " 0.25341797,\n",
              " 1.8759766,\n",
              " -2.2929688,\n",
              " 1.5869141,\n",
              " 0.94384766,\n",
              " -0.84716797,\n",
              " 0.95751953,\n",
              " 1.7871094,\n",
              " 0.76220703,\n",
              " -0.98291016,\n",
              " -1.0478516,\n",
              " 0.29223633,\n",
              " 0.4169922,\n",
              " -2.7421875,\n",
              " -0.2932129,\n",
              " 0.1439209,\n",
              " 3.2519531,\n",
              " 0.24853516,\n",
              " -0.024505615,\n",
              " 0.28881836,\n",
              " -2.1230469,\n",
              " 0.5493164,\n",
              " -0.9824219,\n",
              " -0.42407227,\n",
              " 3.2382812,\n",
              " 1.6630859,\n",
              " -0.7651367,\n",
              " 0.7910156,\n",
              " -0.29589844,\n",
              " -0.19299316,\n",
              " -1.7929688,\n",
              " -1.2041016,\n",
              " 0.019348145,\n",
              " -0.9716797,\n",
              " -2.5800781,\n",
              " 2.2304688,\n",
              " 2.625,\n",
              " -1.9365234,\n",
              " 0.17919922,\n",
              " -0.2010498,\n",
              " -1.8525391,\n",
              " -1.1787109,\n",
              " -0.13269043,\n",
              " -0.23486328,\n",
              " -0.3388672,\n",
              " -1.3330078,\n",
              " 0.375,\n",
              " 0.4038086,\n",
              " -1.9228516,\n",
              " 1.7099609,\n",
              " 0.35205078,\n",
              " -0.20983887,\n",
              " 2.0800781,\n",
              " 0.35595703,\n",
              " 0.21826172,\n",
              " -0.15014648,\n",
              " -0.69091797,\n",
              " -0.5395508,\n",
              " -1.3271484,\n",
              " 2.6347656,\n",
              " -0.3959961,\n",
              " -0.109802246,\n",
              " 1.9472656,\n",
              " 1.1875,\n",
              " -1.2539062,\n",
              " 0.9013672,\n",
              " -2.1054688,\n",
              " 0.5541992,\n",
              " -2.6386719,\n",
              " -0.2541504,\n",
              " 0.43579102,\n",
              " 4.0234375,\n",
              " 0.37280273,\n",
              " 0.21472168,\n",
              " 0.7729492,\n",
              " -1.9853516,\n",
              " -0.0090789795,\n",
              " -1.5849609,\n",
              " 1.6318359,\n",
              " -0.38671875,\n",
              " -0.07513428,\n",
              " -3.1445312,\n",
              " -1.0634766,\n",
              " 0.92626953,\n",
              " 2.7421875,\n",
              " 2.3515625,\n",
              " -0.21081543,\n",
              " 0.4399414,\n",
              " 1.296875,\n",
              " 0.48754883,\n",
              " -0.24145508,\n",
              " 2.4296875,\n",
              " 0.33032227,\n",
              " 0.43847656,\n",
              " -1.5068359,\n",
              " -0.31420898,\n",
              " -0.484375,\n",
              " -0.8847656,\n",
              " 0.03137207,\n",
              " -1.1728516,\n",
              " -0.123413086,\n",
              " -0.7338867,\n",
              " -0.02255249,\n",
              " 1.7460938,\n",
              " -0.27294922,\n",
              " -0.3173828,\n",
              " -0.6386719,\n",
              " 1.1474609,\n",
              " 1.1455078,\n",
              " 0.54345703,\n",
              " 1.2539062,\n",
              " -0.027633667,\n",
              " 1.6416016,\n",
              " -0.9160156,\n",
              " 0.6333008,\n",
              " -0.34936523,\n",
              " 1.5595703,\n",
              " 0.9033203,\n",
              " -0.18249512,\n",
              " 0.55029297,\n",
              " -1.4912109,\n",
              " 1.1523438,\n",
              " 2.265625,\n",
              " 0.16625977,\n",
              " 0.13085938,\n",
              " -0.90478516,\n",
              " 1.3837891,\n",
              " 0.036102295,\n",
              " 0.8359375,\n",
              " -0.17687988,\n",
              " 1.8603516,\n",
              " -2.7792969,\n",
              " 1.4775391,\n",
              " 0.34033203,\n",
              " -1.5742188,\n",
              " -0.31811523,\n",
              " -1.1601562,\n",
              " -0.33862305,\n",
              " 0.7285156,\n",
              " -0.9550781,\n",
              " 0.19262695,\n",
              " -0.5595703,\n",
              " -0.69873047,\n",
              " -2.3046875,\n",
              " 0.47973633,\n",
              " -3.09375,\n",
              " 0.6816406,\n",
              " 1.7685547,\n",
              " 0.2854004,\n",
              " -0.27734375,\n",
              " 0.64990234,\n",
              " 2.96875,\n",
              " 1.0898438,\n",
              " 0.1850586,\n",
              " 0.51708984,\n",
              " 0.059295654,\n",
              " 1.0820312,\n",
              " -2.21875,\n",
              " 1.2412109,\n",
              " -0.47436523,\n",
              " -0.2824707,\n",
              " -1.4082031,\n",
              " -0.27490234,\n",
              " 2.0644531,\n",
              " -1.0693359,\n",
              " 0.33813477,\n",
              " 1.5400391,\n",
              " 2.5546875,\n",
              " -1.7910156,\n",
              " 0.09301758,\n",
              " 1.8710938,\n",
              " 0.8642578,\n",
              " -0.07299805,\n",
              " -0.55029297,\n",
              " 1.2480469,\n",
              " 0.11871338,\n",
              " -0.57714844,\n",
              " -0.7109375,\n",
              " -1.9628906,\n",
              " 0.109191895,\n",
              " 0.77490234,\n",
              " -2.7421875,\n",
              " -0.82373047,\n",
              " 0.18249512,\n",
              " -0.47827148,\n",
              " 0.1854248,\n",
              " -3.9121094,\n",
              " -4.5585938,\n",
              " 2.5742188,\n",
              " -2.7675781,\n",
              " -2.2988281,\n",
              " 1.4277344,\n",
              " 1.7070312,\n",
              " -2.0097656,\n",
              " -0.21520996,\n",
              " 1.6445312,\n",
              " -0.38500977,\n",
              " -1.2197266,\n",
              " -0.9838867,\n",
              " -0.96533203,\n",
              " -0.8144531,\n",
              " 0.24072266,\n",
              " 0.5415039,\n",
              " -2.2109375,\n",
              " 2.1191406,\n",
              " -1.0253906,\n",
              " 0.49047852,\n",
              " -0.30981445,\n",
              " 1.7197266,\n",
              " -1.6875,\n",
              " 1.7119141,\n",
              " -0.7988281,\n",
              " 0.019058228,\n",
              " 1.8066406,\n",
              " 0.3310547,\n",
              " -1.1201172,\n",
              " 0.8027344,\n",
              " 2.8925781,\n",
              " -0.20617676,\n",
              " 1.4941406,\n",
              " 0.12780762,\n",
              " 0.31958008,\n",
              " 1.1035156,\n",
              " -2.0097656,\n",
              " -0.14343262,\n",
              " 0.8125,\n",
              " 1.9677734,\n",
              " 3.0820312,\n",
              " -1.9414062,\n",
              " 1.3505859,\n",
              " -0.4140625,\n",
              " -2.0058594,\n",
              " -0.004573822,\n",
              " -1.9208984,\n",
              " -1.6083984,\n",
              " 0.36499023,\n",
              " -0.5131836,\n",
              " -2.0976562,\n",
              " 1.0595703,\n",
              " -0.18151855,\n",
              " -1.0410156,\n",
              " 0.4375,\n",
              " 0.46899414,\n",
              " 1.0449219,\n",
              " 3.2128906,\n",
              " 0.54589844,\n",
              " -0.31079102,\n",
              " -0.43115234,\n",
              " 1.1542969,\n",
              " 0.4946289,\n",
              " -0.36743164,\n",
              " -1.8945312,\n",
              " -1.3095703,\n",
              " -1.0429688,\n",
              " 0.24658203,\n",
              " -0.25439453,\n",
              " 0.79345703,\n",
              " 0.42944336,\n",
              " -0.5385742,\n",
              " 1.1835938,\n",
              " -1.6777344,\n",
              " -0.9223633,\n",
              " 1.2929688,\n",
              " -0.23327637,\n",
              " 0.8076172,\n",
              " -0.6542969,\n",
              " 1.2763672,\n",
              " 0.8808594,\n",
              " 0.4111328,\n",
              " 0.18322754,\n",
              " -0.7050781,\n",
              " -0.1026001,\n",
              " 1.0332031,\n",
              " -0.2841797,\n",
              " -2.6289062,\n",
              " -1.5615234,\n",
              " 1.0585938,\n",
              " -0.061431885,\n",
              " -1.5351562,\n",
              " -3.6484375,\n",
              " -1.2558594,\n",
              " 0.1887207,\n",
              " 0.47753906,\n",
              " -0.78125,\n",
              " -0.33398438,\n",
              " 0.7792969,\n",
              " 2.0058594,\n",
              " -0.19458008,\n",
              " 0.7314453,\n",
              " 0.9423828,\n",
              " 3.1328125,\n",
              " -2.4707031,\n",
              " 0.68310547,\n",
              " 0.34936523,\n",
              " -0.31958008,\n",
              " 0.31567383,\n",
              " -1.0048828,\n",
              " 0.97998047,\n",
              " 1.3320312,\n",
              " -0.2770996,\n",
              " -1.3388672,\n",
              " 0.040222168,\n",
              " 1.4472656,\n",
              " -1.515625,\n",
              " 2.3300781,\n",
              " 0.6801758,\n",
              " -1.2568359,\n",
              " -1.4306641,\n",
              " 1.0068359,\n",
              " 1.4150391,\n",
              " -1.6308594,\n",
              " -0.060638428,\n",
              " -0.59521484,\n",
              " -0.59033203,\n",
              " -1.1132812,\n",
              " -0.8339844,\n",
              " -0.7714844,\n",
              " -0.9604492,\n",
              " 2.1738281,\n",
              " -2.3300781,\n",
              " 0.6713867,\n",
              " 0.80615234,\n",
              " -0.65625,\n",
              " 1.0664062,\n",
              " 2.3378906,\n",
              " -1.546875,\n",
              " 0.9736328,\n",
              " -2.1875,\n",
              " 0.09234619,\n",
              " 0.27734375,\n",
              " 0.59716797,\n",
              " 0.4819336,\n",
              " 2.2695312,\n",
              " -0.8989258,\n",
              " 1.6533203,\n",
              " -0.1821289,\n",
              " -2.2011719,\n",
              " 0.8623047,\n",
              " 0.76708984,\n",
              " 1.1474609,\n",
              " 0.5629883,\n",
              " -0.36865234,\n",
              " -0.28149414,\n",
              " 0.87939453,\n",
              " -0.4501953,\n",
              " 0.49194336,\n",
              " 2.1894531,\n",
              " 1.8085938,\n",
              " -1.2568359,\n",
              " -2.8339844,\n",
              " 1.6318359,\n",
              " 0.8989258,\n",
              " -0.28881836,\n",
              " -3.1503906,\n",
              " -0.8066406,\n",
              " -0.59814453,\n",
              " 0.13977051,\n",
              " -0.87646484,\n",
              " -0.6542969,\n",
              " -3.4453125,\n",
              " 1.9873047,\n",
              " -1.1289062,\n",
              " -0.012207031,\n",
              " -0.33813477,\n",
              " 0.14831543,\n",
              " -0.22155762,\n",
              " 0.66308594,\n",
              " 0.9638672,\n",
              " 0.14343262,\n",
              " -0.6323242,\n",
              " 0.67529297,\n",
              " 1.7255859,\n",
              " -2.2480469,\n",
              " 4.953125,\n",
              " -0.69873047,\n",
              " -0.26098633,\n",
              " -0.6635742,\n",
              " 0.49609375,\n",
              " 0.17297363,\n",
              " -0.90771484,\n",
              " 0.59375,\n",
              " -0.8208008,\n",
              " -0.06616211,\n",
              " -0.15783691,\n",
              " 1.1708984,\n",
              " 2.2128906,\n",
              " 2.9746094,\n",
              " -0.60595703,\n",
              " -2.0273438,\n",
              " 0.40234375,\n",
              " 0.8964844,\n",
              " 0.55078125,\n",
              " 1.8994141,\n",
              " -0.30566406,\n",
              " -0.3486328,\n",
              " 0.1850586,\n",
              " -1.3349609,\n",
              " 2.7109375,\n",
              " -0.27416992,\n",
              " -2.5800781,\n",
              " -0.9658203,\n",
              " 0.0803833,\n",
              " -0.6142578,\n",
              " 1.2216797,\n",
              " 1.2841797,\n",
              " 0.90771484,\n",
              " 1.4101562,\n",
              " 0.38916016,\n",
              " 1.0087891,\n",
              " 0.63720703,\n",
              " 0.44628906,\n",
              " 0.2208252,\n",
              " -0.022720337,\n",
              " 0.77978516,\n",
              " 1.0205078,\n",
              " 0.5991211,\n",
              " -0.17834473,\n",
              " 0.40795898,\n",
              " -2.6503906,\n",
              " 1.0097656,\n",
              " 1.7216797,\n",
              " -0.010032654,\n",
              " -1.5537109,\n",
              " 0.013404846,\n",
              " 0.68310547,\n",
              " 2.2851562,\n",
              " -2.7480469,\n",
              " -0.009765625,\n",
              " -0.45385742,\n",
              " -1.3095703,\n",
              " -1.5341797,\n",
              " 2.1816406,\n",
              " -2.0683594,\n",
              " -0.4165039,\n",
              " 0.7626953,\n",
              " -0.83251953,\n",
              " 2.2167969,\n",
              " 0.5473633,\n",
              " -2.0292969,\n",
              " 0.39160156,\n",
              " -2.546875,\n",
              " -0.21728516,\n",
              " -1.1201172,\n",
              " 0.2626953,\n",
              " -0.9770508,\n",
              " 2.9921875,\n",
              " -2.1738281,\n",
              " 3.5996094,\n",
              " -0.06072998,\n",
              " -1.0380859,\n",
              " 1.3808594,\n",
              " -1.2802734,\n",
              " 1.2539062,\n",
              " 0.6557617,\n",
              " -0.8417969,\n",
              " -2.0546875,\n",
              " -0.17346191,\n",
              " -0.32348633,\n",
              " 1.5283203,\n",
              " 1.4619141,\n",
              " -1.3945312,\n",
              " 0.4482422,\n",
              " 1.3320312,\n",
              " 1.90625,\n",
              " -0.9316406,\n",
              " -1.4814453,\n",
              " -0.6738281,\n",
              " 0.5307617,\n",
              " -3.2871094,\n",
              " -0.9736328,\n",
              " -1.3212891,\n",
              " -1.8369141,\n",
              " -2.9023438,\n",
              " 0.29638672,\n",
              " -1.4746094,\n",
              " 0.21960449,\n",
              " -1.8427734,\n",
              " 0.68408203,\n",
              " -1.6210938,\n",
              " 2.5078125,\n",
              " 0.76708984,\n",
              " -2.7460938,\n",
              " -0.39990234,\n",
              " 1.1269531,\n",
              " 0.66259766,\n",
              " -0.2619629,\n",
              " -0.42871094,\n",
              " -0.16992188,\n",
              " 3.5253906,\n",
              " 2.2441406,\n",
              " -0.5527344,\n",
              " -0.31689453,\n",
              " 0.20788574,\n",
              " -0.5083008,\n",
              " 0.6723633,\n",
              " -2.6015625,\n",
              " 0.6245117,\n",
              " 1.2451172,\n",
              " 0.040496826,\n",
              " 0.3161621,\n",
              " 0.5097656,\n",
              " 0.081604004,\n",
              " 2.125,\n",
              " 0.014961243,\n",
              " -0.17773438,\n",
              " -2.4511719,\n",
              " -0.2097168,\n",
              " -4.28125,\n",
              " 1.2392578,\n",
              " 1.2900391,\n",
              " 0.5317383,\n",
              " -0.43896484,\n",
              " 0.0690918,\n",
              " 0.85595703,\n",
              " 1.1621094,\n",
              " -0.19030762,\n",
              " -0.5883789,\n",
              " -1.109375,\n",
              " -0.09320068,\n",
              " 0.15344238,\n",
              " -0.19494629,\n",
              " 1.6318359,\n",
              " -2.5859375,\n",
              " 0.23388672,\n",
              " -3.2949219,\n",
              " -0.20812988,\n",
              " 0.5,\n",
              " 0.9453125,\n",
              " 0.5673828,\n",
              " -1.0380859,\n",
              " 0.83740234,\n",
              " -2.6503906,\n",
              " 0.19995117,\n",
              " -0.18054199,\n",
              " -0.6977539,\n",
              " -0.72802734,\n",
              " -1.5722656,\n",
              " -2.7734375,\n",
              " -0.83154297,\n",
              " -2.8984375,\n",
              " 0.9111328,\n",
              " 0.5913086,\n",
              " -1.7041016,\n",
              " 0.85498047,\n",
              " 1.0068359,\n",
              " -2.1328125,\n",
              " -0.30371094,\n",
              " -0.41186523,\n",
              " 0.7426758,\n",
              " -1.6289062,\n",
              " -0.51660156,\n",
              " 0.16711426,\n",
              " -0.46020508,\n",
              " 1.2802734,\n",
              " -1.6240234,\n",
              " -0.52734375,\n",
              " -1.4023438,\n",
              " -0.025131226,\n",
              " -0.049194336,\n",
              " -1.3994141,\n",
              " -2.40625,\n",
              " -1.0517578,\n",
              " 0.10845947,\n",
              " 1.8408203,\n",
              " 0.30688477,\n",
              " 1.171875,\n",
              " -1.8974609,\n",
              " 1.4121094,\n",
              " -0.1182251,\n",
              " 0.8276367,\n",
              " -5.5234375,\n",
              " -0.062561035,\n",
              " -1.1445312,\n",
              " -0.8828125,\n",
              " -0.4248047,\n",
              " 0.17333984,\n",
              " -1.6347656,\n",
              " -1.9003906,\n",
              " 0.10900879,\n",
              " 0.2770996,\n",
              " -0.23620605,\n",
              " 1.1533203,\n",
              " 0.35229492,\n",
              " 0.15124512,\n",
              " -0.17443848,\n",
              " 1.2177734,\n",
              " -1.1787109,\n",
              " 1.2587891,\n",
              " 1.6181641,\n",
              " -1.3720703,\n",
              " 0.08880615,\n",
              " 0.23278809,\n",
              " 1.6123047,\n",
              " 1.3623047,\n",
              " -0.43847656,\n",
              " -4.6601562,\n",
              " -1.1396484,\n",
              " -1.8583984,\n",
              " -0.39916992,\n",
              " 4.1289062,\n",
              " -1.7412109,\n",
              " 1.4335938,\n",
              " -0.7104492,\n",
              " 0.40307617,\n",
              " 1.0537109,\n",
              " -4.1210938,\n",
              " -1.1650391,\n",
              " 0.5415039,\n",
              " 0.62060547,\n",
              " -1.6220703,\n",
              " -1.25,\n",
              " -2.7949219,\n",
              " -0.66308594,\n",
              " 0.10992432,\n",
              " -0.099975586,\n",
              " -1.8789062,\n",
              " 0.25048828,\n",
              " 1.5664062,\n",
              " -1.2480469,\n",
              " 1.3613281,\n",
              " -1.7626953,\n",
              " 2.015625,\n",
              " 0.375,\n",
              " 0.859375,\n",
              " 1.8125,\n",
              " -1.8564453,\n",
              " 0.3779297,\n",
              " 0.78759766,\n",
              " -1.3886719,\n",
              " 0.1307373,\n",
              " -1.2099609,\n",
              " -0.52441406,\n",
              " 0.6098633,\n",
              " 0.12072754,\n",
              " 0.28320312,\n",
              " 1.4755859,\n",
              " 1.1152344,\n",
              " -0.21398926,\n",
              " -1.5273438,\n",
              " -2.5234375,\n",
              " 0.06085205,\n",
              " 0.5185547,\n",
              " 0.99853516,\n",
              " -1.8876953,\n",
              " -6.1601562,\n",
              " -0.7011719,\n",
              " 1.2822266,\n",
              " -1.8554688,\n",
              " 0.074523926,\n",
              " -1.5410156,\n",
              " -0.04348755,\n",
              " -0.24987793,\n",
              " 1.3613281,\n",
              " 0.05496216,\n",
              " 0.7548828,\n",
              " -1.7431641,\n",
              " -1.0585938,\n",
              " -2.875,\n",
              " -1.6367188,\n",
              " 2.0703125,\n",
              " -0.5708008,\n",
              " 0.08892822,\n",
              " 2.1054688,\n",
              " -2.6269531,\n",
              " -1.5712891,\n",
              " -0.39038086,\n",
              " -0.6542969,\n",
              " -1.5869141,\n",
              " -1.65625,\n",
              " 0.45483398,\n",
              " -1.1699219,\n",
              " 0.06542969,\n",
              " 0.8847656,\n",
              " -1.7314453,\n",
              " -0.37426758,\n",
              " 0.3869629,\n",
              " 0.09643555,\n",
              " 1.859375,\n",
              " 3,\n",
              " -0.15075684,\n",
              " 1.0625,\n",
              " 0.30688477,\n",
              " -0.27905273,\n",
              " -0.12731934,\n",
              " -0.76416016,\n",
              " 0.87646484,\n",
              " -1.0429688,\n",
              " -1.3007812,\n",
              " -1.9746094,\n",
              " 0.5917969,\n",
              " -1.6904297,\n",
              " -0.1459961,\n",
              " -2.2402344,\n",
              " 1.4492188,\n",
              " 3.1875,\n",
              " 0.98779297,\n",
              " -0.47192383,\n",
              " 1.4726562,\n",
              " 4.8164062,\n",
              " 0.44995117,\n",
              " 2.4394531,\n",
              " 0.82958984,\n",
              " -0.12365723,\n",
              " -0.96435547,\n",
              " 0.024276733,\n",
              " -1.8251953,\n",
              " -0.9838867,\n",
              " -1.6181641,\n",
              " 1.1962891,\n",
              " 2.5546875,\n",
              " 1.7685547,\n",
              " 1.1035156,\n",
              " -3.3984375,\n",
              " -2.0488281,\n",
              " -0.55566406,\n",
              " 0.93310547,\n",
              " 0.19177246,\n",
              " -0.89404297,\n",
              " 0.70703125,\n",
              " 0.2680664,\n",
              " -0.7597656,\n",
              " -2.2011719,\n",
              " -0.63916016,\n",
              " -2.5703125,\n",
              " -0.052734375,\n",
              " -1.1904297,\n",
              " 2.0136719,\n",
              " 0.062561035,\n",
              " 0.7182617,\n",
              " -0.82958984,\n",
              " -0.9326172,\n",
              " -1.2705078,\n",
              " 0.26757812,\n",
              " -0.8286133,\n",
              " 0.12780762,\n",
              " -1.0039062,\n",
              " -0.43725586,\n",
              " -1.8251953,\n",
              " -1.9414062,\n",
              " 0.058013916,\n",
              " 0.98876953,\n",
              " 0.15820312,\n",
              " 1.9335938,\n",
              " -0.19226074,\n",
              " -1.8125,\n",
              " -1.0507812,\n",
              " -0.5385742,\n",
              " -0.055389404,\n",
              " 0.33496094,\n",
              " -0.55615234,\n",
              " -1.1865234,\n",
              " 1.0615234,\n",
              " -3.7382812,\n",
              " -3.2421875,\n",
              " -1.3115234,\n",
              " 0.032440186,\n",
              " 0.35327148,\n",
              " 2.3515625,\n",
              " 0.3947754,\n",
              " 1.4306641,\n",
              " 1.3535156,\n",
              " 2.015625,\n",
              " 0.0016088486,\n",
              " -2.2050781,\n",
              " 3.5605469,\n",
              " 0.5449219,\n",
              " -2.5957031,\n",
              " 0.060760498,\n",
              " -0.67529297,\n",
              " 2.4453125,\n",
              " 1,\n",
              " 2.5625,\n",
              " 1.9287109,\n",
              " -0.43896484,\n",
              " -0.5136719,\n",
              " -0.94970703,\n",
              " -1.1533203,\n",
              " 0.40795898,\n",
              " 2.5664062,\n",
              " -0.82470703,\n",
              " -0.09729004,\n",
              " 0.2446289,\n",
              " -0.64697266,\n",
              " -0.6064453,\n",
              " 3.0117188,\n",
              " -0.58935547,\n",
              " -1.0917969,\n",
              " -1.2177734,\n",
              " -2.6191406,\n",
              " 0.984375,\n",
              " 2.7617188,\n",
              " -2.6269531,\n",
              " 0.875,\n",
              " -0.16882324,\n",
              " -0.17590332,\n",
              " -0.04989624,\n",
              " -2.5078125,\n",
              " -1.2001953,\n",
              " -1.7216797,\n",
              " ...]"
            ]
          },
          "metadata": {},
          "execution_count": 41
        }
      ]
    },
    {
      "cell_type": "code",
      "source": [
        "got = loaded_model.predict(response.embeddings)"
      ],
      "metadata": {
        "id": "g9RyPwj31cZc"
      },
      "execution_count": 46,
      "outputs": []
    },
    {
      "cell_type": "code",
      "source": [
        "got[0]"
      ],
      "metadata": {
        "colab": {
          "base_uri": "https://localhost:8080/"
        },
        "id": "LhhW7qM793F8",
        "outputId": "3953a3b0-d6c1-4f35-e586-2258a711291f"
      },
      "execution_count": 49,
      "outputs": [
        {
          "output_type": "execute_result",
          "data": {
            "text/plain": [
              "4"
            ]
          },
          "metadata": {},
          "execution_count": 49
        }
      ]
    },
    {
      "cell_type": "code",
      "source": [
        "list1=['ISTJ', 'ISTP', 'ISFJ','ISFP','INFJ','INFP','INTJ','INTP','ESTP','ESTJ','ESFP','ESFJ','ENFP','ENFJ', \n",
        "    'ENTP','ENTJ' ]"
      ],
      "metadata": {
        "id": "x5R3QJ0C_dIK"
      },
      "execution_count": 56,
      "outputs": []
    },
    {
      "cell_type": "code",
      "source": [
        "len(list1)"
      ],
      "metadata": {
        "colab": {
          "base_uri": "https://localhost:8080/"
        },
        "id": "gsds14hiAeYC",
        "outputId": "39779b16-2b16-41ca-d12a-ffe2daa5d8bc"
      },
      "execution_count": 57,
      "outputs": [
        {
          "output_type": "execute_result",
          "data": {
            "text/plain": [
              "16"
            ]
          },
          "metadata": {},
          "execution_count": 57
        }
      ]
    },
    {
      "cell_type": "code",
      "source": [
        "list1[4]"
      ],
      "metadata": {
        "colab": {
          "base_uri": "https://localhost:8080/",
          "height": 36
        },
        "id": "i96i2JNhAeMa",
        "outputId": "b3931208-2344-491f-f7fe-09ed593b01ee"
      },
      "execution_count": 59,
      "outputs": [
        {
          "output_type": "execute_result",
          "data": {
            "text/plain": [
              "'INFJ'"
            ],
            "application/vnd.google.colaboratory.intrinsic+json": {
              "type": "string"
            }
          },
          "metadata": {},
          "execution_count": 59
        }
      ]
    },
    {
      "cell_type": "code",
      "source": [
        "personality['ISFP']"
      ],
      "metadata": {
        "colab": {
          "base_uri": "https://localhost:8080/",
          "height": 36
        },
        "id": "RQ6_BbR4-8Lk",
        "outputId": "3eb38323-62bf-43fd-c5a6-99ece923f9b1"
      },
      "execution_count": 53,
      "outputs": [
        {
          "output_type": "execute_result",
          "data": {
            "text/plain": [
              "'The Artist- Easy-going and flexible, they tend to be reserved and artistic.'"
            ],
            "application/vnd.google.colaboratory.intrinsic+json": {
              "type": "string"
            }
          },
          "metadata": {},
          "execution_count": 53
        }
      ]
    },
    {
      "cell_type": "markdown",
      "metadata": {
        "id": "iHBNgvJHjC0s"
      },
      "source": [
        "### Keras "
      ]
    },
    {
      "cell_type": "code",
      "execution_count": null,
      "metadata": {
        "colab": {
          "background_save": true
        },
        "id": "7f3xML48qxyc"
      },
      "outputs": [],
      "source": [
        "from tensorflow.keras import layers\n",
        "import tensorflow as tf "
      ]
    },
    {
      "cell_type": "code",
      "execution_count": null,
      "metadata": {
        "colab": {
          "background_save": true
        },
        "id": "ZXGsu_l4jI9i"
      },
      "outputs": [],
      "source": [
        "def create_model(my_learning_rate): \n",
        "  model = tf.keras.models.Sequential()\n",
        "  model.add(tf.keras.layers.Flatten()) #flatten 2d array in 1d \n",
        "  model.add (tf.keras.layers.Dense(units=32, activation='relu')) #define the first hidden layer\n",
        "  model.add(tf.keras.layers.Dropout(rate=0.2)) #define a dropout regularization layer \n",
        "  model.add(tf.keras.layers.Dense(units=10, activation='softmax')) #define the output layer \n",
        "  model.compile(optimizer=tf.keras.optimizers.Adam(lr=my_learning_rate), loss=\"sparse_categorical_crossentropy\", metrics=['accuracy']) #construct layers into a model that tensorflow can execute \n",
        "  return model "
      ]
    },
    {
      "cell_type": "code",
      "execution_count": null,
      "metadata": {
        "colab": {
          "background_save": true
        },
        "id": "g7KOyqrztCHz"
      },
      "outputs": [],
      "source": [
        "def train_model(model, train_features, train_label, epochs, batch_size=None, validation_split=0.1): \n",
        "  history = model.fit(x=train_features, y=train_label, batch_size=batch_size,\n",
        "                      epochs=epochs, shuffle=True, \n",
        "                      validation_split=validation_split)\n",
        " \n",
        "  # To track the progression of training, gather a snapshot\n",
        "  # of the model's metrics at each epoch. \n",
        "  epochs = history.epoch\n",
        "  hist = pd.DataFrame(history.history)\n",
        "\n",
        "  return epochs, hist "
      ]
    },
    {
      "cell_type": "code",
      "execution_count": null,
      "metadata": {
        "colab": {
          "background_save": true
        },
        "id": "SW-gaVl3u6Nk"
      },
      "outputs": [],
      "source": [
        "# The following variables are the hyperparameters.\n",
        "learning_rate = 0.003\n",
        "epochs = 50\n",
        "batch_size = 4000\n",
        "validation_split = 0.2\n",
        "\n",
        "# Establish the model's topography.\n",
        "my_model = create_model(learning_rate)\n",
        "\n",
        "# Train the model on the normalized training set.\n",
        "epochs, hist = train_model(my_model, embeddings_train, y_train, \n",
        "                           epochs, batch_size, validation_split)\n",
        "\n",
        "# Plot a graph of the metric vs. epochs.\n",
        "list_of_metrics_to_plot = ['accuracy']\n",
        "#plot_curve(epochs, hist, list_of_metrics_to_plot)\n",
        "\n",
        "# Evaluate against the test set.\n",
        "print(\"\\n Evaluate the new model against the test set:\")\n",
        "my_model.evaluate(x=embeddings_test, y=y_test, batch_size=batch_size)"
      ]
    }
  ],
  "metadata": {
    "accelerator": "GPU",
    "colab": {
      "provenance": []
    },
    "gpuClass": "standard",
    "kernelspec": {
      "display_name": "Python 3",
      "name": "python3"
    },
    "language_info": {
      "name": "python"
    }
  },
  "nbformat": 4,
  "nbformat_minor": 0
}